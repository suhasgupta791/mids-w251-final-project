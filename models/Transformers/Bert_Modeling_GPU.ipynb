{
 "cells": [
  {
   "cell_type": "code",
   "execution_count": 32,
   "metadata": {},
   "outputs": [
    {
     "name": "stdout",
     "output_type": "stream",
     "text": [
      "The autoreload extension is already loaded. To reload it, use:\n",
      "  %reload_ext autoreload\n"
     ]
    },
    {
     "data": {
      "text/plain": [
       "<torch._C.Generator at 0x7f7b1cc9ca90>"
      ]
     },
     "execution_count": 32,
     "metadata": {},
     "output_type": "execute_result"
    }
   ],
   "source": [
    "import ijson\n",
    "import itertools\n",
    "import random\n",
    "import numpy as np\n",
    "import sys, os\n",
    "import pandas as pd \n",
    "import torch\n",
    "from torchsummary import summary\n",
    "from torchtext import data\n",
    "import torch.nn as nn\n",
    "import torch.utils.data\n",
    "from torch.utils.data import Dataset, TensorDataset,DataLoader, RandomSampler\n",
    "from torch.utils.tensorboard import SummaryWriter\n",
    "import torchvision\n",
    "import torch.nn.functional as F\n",
    "from sklearn.metrics import roc_auc_score\n",
    "from tqdm import tqdm, tqdm_notebook\n",
    "from IPython.core.interactiveshell import InteractiveShell\n",
    "InteractiveShell.ast_node_interactivity = \"all\"\n",
    "import warnings\n",
    "warnings.filterwarnings(action='once')\n",
    "import pickle\n",
    "from apex import amp\n",
    "import shutil\n",
    "import time\n",
    "import matplotlib.pyplot as plt\n",
    "import tensorflow as tf\n",
    "%load_ext autoreload\n",
    "%autoreload 2\n",
    "%matplotlib inline\n",
    "\n",
    "SEED = 7219\n",
    "random.seed(SEED)\n",
    "np.random.seed(SEED)\n",
    "torch.manual_seed(SEED)\n",
    "torch.backends.cudnn.deterministic = True"
   ]
  },
  {
   "cell_type": "code",
   "execution_count": 33,
   "metadata": {
    "scrolled": true
   },
   "outputs": [],
   "source": [
    "# Import transformers specific packages\n",
    "from transformers import BertTokenizer, BertModel, BertConfig\n",
    "from transformers import  BertForSequenceClassification, BertForTokenClassification\n",
    "from transformers import AdamW,get_linear_schedule_with_warmup, pipeline"
   ]
  },
  {
   "cell_type": "code",
   "execution_count": 34,
   "metadata": {},
   "outputs": [],
   "source": [
    "# Import package for data parallelism to train on multi-GPU machines\n",
    "from parallel import DataParallelModel, DataParallelCriterion"
   ]
  },
  {
   "cell_type": "code",
   "execution_count": 35,
   "metadata": {},
   "outputs": [
    {
     "data": {
      "text/plain": [
       "device(type='cuda')"
      ]
     },
     "execution_count": 35,
     "metadata": {},
     "output_type": "execute_result"
    }
   ],
   "source": [
    "# Set the device and empty cache \n",
    "device = torch.device('cuda' if torch.cuda.is_available() else 'cpu')\n",
    "torch.cuda.empty_cache()\n",
    "device"
   ]
  },
  {
   "cell_type": "markdown",
   "metadata": {},
   "source": [
    "- Add tensorboard summaries for monitoring training \n",
    "- Add accuracy, F1 score, log loss metric calculations\n",
    "- Add architectural layers (freeze BERT layers, add new layers)\n",
    "- Create pipeline\n"
   ]
  },
  {
   "cell_type": "code",
   "execution_count": 36,
   "metadata": {},
   "outputs": [],
   "source": [
    "# Class for model training and inference\n",
    "class Bert_Model():\n",
    "    def __init__(self,train_df,test_df,bert_model_name,bert_model_path,\n",
    "                tokenizer,\n",
    "                max_seq_length=128,seed=1234):\n",
    "        \n",
    "        if max_seq_length > tokenizer.max_model_input_sizes[bert_model_name]:\n",
    "            print(\"Max sequence length specified > 512!!... resetting to 128\")\n",
    "            print(\"If you don't want this then set max_seq_length to <= 512\")\n",
    "            self._MAX_SEQUENCE_LENGTH = 128\n",
    "        else:\n",
    "            self._MAX_SEQUENCE_LENGTH = max_seq_length\n",
    "        self._SEED = seed\n",
    "        self._WORK_DIR = \"/root/models/Tranformer_based/workingdir/\"\n",
    "        self._bert_model_path=bert_model_path\n",
    "        self._bert_model_name=bert_model_name\n",
    "        self._train_data=train_df\n",
    "        self._test_size=test_df\n",
    "        self._tokenizer = tokenizer\n",
    "        self._training_stats = []\n",
    "\n",
    "    def tokenize(self,text_array):\n",
    "        ''' Returns tokenized IDs and attention mask\n",
    "        The transformers encode_plus method returns the following:\n",
    "        {\n",
    "        input_ids: list[int],\n",
    "        token_type_ids: list[int] if return_token_type_ids is True (default)\n",
    "        attention_mask: list[int] if return_attention_mask is True (default)\n",
    "        overflowing_tokens: list[int] if a ``max_length`` is specified and return_overflowing_tokens is True\n",
    "        num_truncated_tokens: int if a ``max_length`` is specified and return_overflowing_tokens is True\n",
    "        special_tokens_mask: list[int] if ``add_special_tokens`` if set to ``True`` and return_special_tokens_mask is True\n",
    "        }'''\n",
    "        all_tokens=[]\n",
    "        all_attention_mask=[]\n",
    "        for i,text in enumerate(tqdm_notebook(text_array)):\n",
    "            encoded = tokenizer.encode_plus(\n",
    "                           text, \n",
    "                           add_special_tokens=True,\n",
    "                           max_length=self._MAX_SEQUENCE_LENGTH,\n",
    "                           pad_to_max_length=True)\n",
    "            tokens = torch.tensor(encoded['input_ids'])\n",
    "            attention_mask = torch.tensor(encoded['attention_mask'])\n",
    "            all_tokens.append(tokens)\n",
    "            all_attention_mask.append(attention_mask)\n",
    "        return all_tokens,all_attention_mask\n",
    "     \n",
    "    def initialize_model_for_training(self,dataset_len,EPOCHS=1,model_seed=21000,lr=2e-5,batch_size=32,\n",
    "                                      accumulation_steps=2):\n",
    "        # Setup model parameters\n",
    "        np.random.seed(model_seed)\n",
    "        torch.manual_seed(model_seed)\n",
    "        torch.cuda.manual_seed(model_seed)\n",
    "        torch.backends.cudnn.deterministic = True\n",
    "\n",
    "        # Empty cache\n",
    "        torch.cuda.empty_cache()\n",
    "        model = BertForSequenceClassification.from_pretrained(self._bert_model_path,\n",
    "                                                              cache_dir=None,\n",
    "                                                              num_labels=2,\n",
    "                                                              output_attentions = False, \n",
    "                                                              output_hidden_states = False)\n",
    "        \n",
    "        model = model.to(device)\n",
    "        param_optimizer = list(model.named_parameters())\n",
    "        no_decay = ['bias', 'LayerNorm.bias', 'LayerNorm.weight']\n",
    "        optimizer_grouped_parameters = [\n",
    "            {'params': [p for n, p in param_optimizer if not any(nd in n for nd in no_decay)], 'weight_decay': 0.01},\n",
    "            {'params': [p for n, p in param_optimizer if any(nd in n for nd in no_decay)], 'weight_decay': 0.0}\n",
    "            ]\n",
    "        num_train_optimization_steps = int(EPOCHS*dataset_len/batch_size/accumulation_steps)\n",
    "        optimizer = AdamW(optimizer_grouped_parameters, lr=lr,eps=1e-8,correct_bias=False)  # To reproduce BertAdam specific behavior set correct_bias=False\n",
    "        scheduler = get_linear_schedule_with_warmup(optimizer,num_warmup_steps=0,num_training_steps=num_train_optimization_steps)  # PyTorch scheduler\n",
    "        model, optimizer = amp.initialize(model,optimizer,opt_level=\"O1\",verbosity=0)\n",
    "        ### Parallel GPU processing\n",
    "        model = DataParallelModel(model)\n",
    "        criterion = nn.CrossEntropyLoss()\n",
    "        model = model.train()\n",
    "        model.zero_grad()\n",
    "        optimizer.zero_grad()\n",
    "        return model,optimizer,scheduler,criterion,EPOCHS\n",
    "    \n",
    "    def run_training(self,model,train_dataLoader,valid_dataLoader,optimizer,scheduler,criterion,\n",
    "                     EPOCHS=1,batch_size=32,accumulation_steps=20,evaluation_steps=80,pred_thres=0.5,\n",
    "                     logdir='./logs'):\n",
    "        # Data Structure for training statistics\n",
    "        training_stats=[]\n",
    "        validation_stats=[]\n",
    "        \n",
    "        tr_loss = 0.\n",
    "        tr_accuracy = 0.\n",
    "         \n",
    "        tq = tqdm_notebook(range(EPOCHS),total=EPOCHS,leave=False)\n",
    "        global_step = 0\n",
    "        for epoch in tq:\n",
    "            print(\"--Training--\")\n",
    "            tk0 = tqdm_notebook(enumerate(train_dataLoader),total=len(train_dataLoader),leave=True)\n",
    "            for step,(x_batch,attn_mask,y_batch) in tk0:\n",
    "                outputs = model(x_batch.to(device), \n",
    "                                token_type_ids=None, \n",
    "                                attention_mask=attn_mask.to(device), \n",
    "                                labels=y_batch.to(device))\n",
    "                y_pred = outputs[1]\n",
    "                \n",
    "                # Parallel GPU processing\n",
    "                parallel_loss_criterion = DataParallelCriterion(criterion)\n",
    "            \n",
    "#                 loss = criterion(y_pred,y_batch.to(device)) / accumulation_steps\n",
    "                loss = parallel_loss_criterion(y_pred,y_batch.to(device))/accumulation_steps\n",
    "    \n",
    "                with amp.scale_loss(loss,optimizer) as scaled_loss:\n",
    "                    scaled_loss.backward()\n",
    "#                     loss.backward()\n",
    "                tk0.set_postfix(step=global_step+1,loss=loss.item()) # display running loss\n",
    "    \n",
    "                tr_loss += loss.item()\n",
    "                acc = torch.mean(((torch.sigmoid(y_pred[:,1])>pred_thres) == (y_batch>pred_thres).to(device)).to(torch.float)).item()/len(train_dataLoader)\n",
    "                tr_accuracy += acc\n",
    "                if (step+1) % accumulation_steps == 0:          # Wait for several backward steps\n",
    "                    torch.nn.utils.clip_grad_norm_(model.parameters(), 1.0)  # clip the norm to 1.0 to prevent exploding gradients\n",
    "                    optimizer.step()                            # Now we can do an optimizer step\n",
    "                    scheduler.step()\n",
    "                    model.zero_grad()\n",
    "                    global_step+=1\n",
    "                    training_stats.append(\n",
    "                            {\n",
    "                                'step': global_step,\n",
    "                                'train_loss': tr_loss/global_step,\n",
    "                                'train_acc': tr_accuracy/global_step,\n",
    "                            })\n",
    "                    # Write training stats to tensorboard\n",
    "                    self.summaryWriter(\"train\",loss.item(),acc,global_step+1,logdir)            \n",
    "                    # Run evaluation when no gradients are accumulated\n",
    "                    if (step+1) % evaluation_steps ==0:\n",
    "                        print(\"--I-- Running Validation\")\n",
    "                        eval_loss,eval_accuracy=self.run_eval(model,valid_dataLoader,global_step)\n",
    "                        validation_stats.append(\n",
    "                            {\n",
    "                                'step': global_step,\n",
    "                                'valid_loss': eval_loss,\n",
    "                                'Training Accuracy': eval_accuracy,\n",
    "                            })\n",
    "                        # Write training stats to tensorboard\n",
    "                        self.summaryWriter(\"eval\",eval_loss,eval_accuracy,global_step,logdir)\n",
    "            tq.set_postfix(train_loss=tr_loss/(global_step+1),train_accuracy=tr_accuracy/global_step)\n",
    "        return model,training_stats,validation_stats\n",
    "    \n",
    "    def run_eval(self,model,valid_dataLoader,global_step):\n",
    "        avg_loss = 0.\n",
    "        eval_accuracy = 0.\n",
    "        eval_loss = 0.\n",
    "        nb_eval_steps = 0\n",
    "        lossf=None\n",
    "        tk0 = tqdm_notebook(enumerate(valid_dataLoader),total=len(valid_dataLoader),leave=True)\n",
    "        for step,(x_batch, attn_mask,y_batch) in tk0:\n",
    "            model.eval()\n",
    "            with torch.no_grad():\n",
    "                outputs = model(x_batch.to(device), \n",
    "                                token_type_ids=None, \n",
    "                                attention_mask=attn_mask.to(device), \n",
    "                                labels=y_batch.to(device))\n",
    "            loss, y_pred = outputs\n",
    "            loss = criterion(y_pred,y_batch.to(device))\n",
    "            y_pred = y_pred.detach().cpu().numpy()\n",
    "            label_ids = y_batch.to('cpu').numpy()\n",
    "            tmp_eval_accuracy = self.flat_accuracy(y_pred, label_ids)\n",
    "            if lossf:\n",
    "                lossf = 0.98*lossf+0.02*loss.item()\n",
    "            else:\n",
    "                lossf = loss.item()\n",
    "            # Accumulate the total accuracy.\n",
    "            eval_loss += lossf/len(valid_dataLoader)\n",
    "            eval_accuracy += tmp_eval_accuracy/len(valid_dataLoader)\n",
    "            nb_eval_steps += 1\n",
    "        avg_loss = eval_loss/nb_eval_steps\n",
    "        avg_accuracy = eval_accuracy/nb_eval_steps\n",
    "        tk0.set_postfix(step=global_step,avg_loss=avg_loss,avg_accuracy=avg_accuracy)\n",
    "        return avg_loss,avg_accuracy\n",
    "\n",
    "     # Function to calculate the accuracy of predictions vs labels\n",
    "    def flat_accuracy(self,preds,labels):\n",
    "        pred_flat = np.argmax(preds, axis=1).flatten()\n",
    "        labels_flat = labels.flatten()\n",
    "        return np.sum(pred_flat == labels_flat)\n",
    "    \n",
    "    def summaryWriter(self,name,loss,acc,n_iter,logdir):\n",
    "        # Writer will output to ./runs/ directory by default\n",
    "        writer = SummaryWriter(logdir)\n",
    "        writer.add_scalar('Loss/'+name,loss,n_iter)\n",
    "        writer.add_scalar('Accuracy/'+name,acc,n_iter)\n",
    "        writer.close()"
   ]
  },
  {
   "cell_type": "code",
   "execution_count": 37,
   "metadata": {},
   "outputs": [],
   "source": [
    "class CreateDataset(Dataset):\n",
    "    def __init__(self,data,atten_mask,labels):\n",
    "        self._dataset = [[data[i],atten_mask[i],labels.values[i]] for i in range(0,len(data))]\n",
    "    \n",
    "    def __len__(self):\n",
    "        return len(self._dataset)\n",
    "\n",
    "    def __getitem__(self,idx):\n",
    "        return self._dataset[idx]\n"
   ]
  },
  {
   "cell_type": "code",
   "execution_count": 38,
   "metadata": {},
   "outputs": [
    {
     "name": "stdout",
     "output_type": "stream",
     "text": [
      "7999 2000 9999\n"
     ]
    }
   ],
   "source": [
    "# Define constants and paths\n",
    "\n",
    "seed = 7843\n",
    "bert_model_name = \"bert-base-uncased\"\n",
    "# Convert TF checkpoint to pytorch chckpoint and then use as input to class object\n",
    "bert_model_path = \"/root/data/BERT/uncased_L-12_H-768_A-12-pytorch/\"\n",
    "\n",
    "# data_path = \"/Users/suhasgupta/w251/mids-w251-final-project/data/nlp.cs.princeton.edu/SARC/2.0/pol/\"\n",
    "data_path = \"/root/data/nlp.cs.princeton.edu/SARC/2.0/files/\"\n",
    "work_dir = \"/root/models/Tranformer_based/workingdir/\"\n",
    "\n",
    "tokenizer = BertTokenizer.from_pretrained(bert_model_name, cache_dir=None,do_lower_case=True)\n",
    "max_seq_len = 128\n",
    "\n",
    "# Load and check the dataset from files on disk \n",
    "train_file_name = data_path+'small_train.csv'\n",
    "test_file_name  = data_path+'small_test.csv'\n",
    "# train_file_name = data_path+'balanced_train.csv'\n",
    "# test_file_name  = data_path+'balanced_test.csv'\n",
    "\n",
    "\n",
    "all_train_df = pd.read_csv(train_file_name)\n",
    "test_df = pd.read_csv(test_file_name)\n",
    "\n",
    "# Create a train, valid split\n",
    "from sklearn.model_selection import train_test_split\n",
    "train_df, valid_df = train_test_split(all_train_df, test_size=0.2,random_state=seed)\n",
    "\n",
    "train_data   = train_df.text.fillna(\"DUMMY_VALUE\")\n",
    "train_labels = train_df.label\n",
    "valid_data  = valid_df.text.fillna(\"DUMMY_VALUE\")\n",
    "valid_labels = valid_df.label\n",
    "test_data  = test_df.text.fillna(\"DUMMY_VALUE\")\n",
    "test_labels = test_df.label\n",
    "\n",
    "train_size,valid_size,test_size = len(train_df),len(valid_df),len(test_df)\n",
    "print(train_size,valid_size,test_size)"
   ]
  },
  {
   "cell_type": "code",
   "execution_count": 39,
   "metadata": {},
   "outputs": [],
   "source": [
    "# Create a model object \n",
    "bert_model1=Bert_Model(train_df=train_df,\n",
    "                      test_df=test_df,\n",
    "                      bert_model_name=bert_model_name,\n",
    "                      bert_model_path=bert_model_path,\n",
    "                      tokenizer=tokenizer,\n",
    "                      max_seq_length=max_seq_len)"
   ]
  },
  {
   "cell_type": "code",
   "execution_count": 40,
   "metadata": {},
   "outputs": [
    {
     "name": "stdout",
     "output_type": "stream",
     "text": [
      "--Tokenizing--\n"
     ]
    },
    {
     "data": {
      "application/vnd.jupyter.widget-view+json": {
       "model_id": "eb464c9832584774bab99205f36a6c12",
       "version_major": 2,
       "version_minor": 0
      },
      "text/plain": [
       "HBox(children=(IntProgress(value=0, max=7999), HTML(value='')))"
      ]
     },
     "metadata": {},
     "output_type": "display_data"
    },
    {
     "name": "stdout",
     "output_type": "stream",
     "text": [
      "\n"
     ]
    },
    {
     "data": {
      "application/vnd.jupyter.widget-view+json": {
       "model_id": "2deca5f67f9740e886325dc7cb406178",
       "version_major": 2,
       "version_minor": 0
      },
      "text/plain": [
       "HBox(children=(IntProgress(value=0, max=2000), HTML(value='')))"
      ]
     },
     "metadata": {},
     "output_type": "display_data"
    },
    {
     "name": "stdout",
     "output_type": "stream",
     "text": [
      "\n"
     ]
    },
    {
     "data": {
      "application/vnd.jupyter.widget-view+json": {
       "model_id": "01cde63725294460b9724f5f49001227",
       "version_major": 2,
       "version_minor": 0
      },
      "text/plain": [
       "HBox(children=(IntProgress(value=0, max=9999), HTML(value='')))"
      ]
     },
     "metadata": {},
     "output_type": "display_data"
    },
    {
     "name": "stdout",
     "output_type": "stream",
     "text": [
      "\n"
     ]
    }
   ],
   "source": [
    "%timeit\n",
    "print(\"--Tokenizing--\")\n",
    "train_data_tokenized,train_attention_mask = bert_model1.tokenize(train_data)\n",
    "valid_data_tokenized,valid_attention_mask = bert_model1.tokenize(valid_data)\n",
    "test_data_tokenized,test_attention_mask = bert_model1.tokenize(test_data)\n"
   ]
  },
  {
   "cell_type": "code",
   "execution_count": 11,
   "metadata": {},
   "outputs": [],
   "source": [
    "# # save to files for later use\n",
    "# TOKEN_DATA_PATH = '/root/data/BERT/uncased_L-12_H-768_A-12-pytorch/tokenized/'\n",
    "# with open('/root/data/BERT/uncased_L-12_H-768_A-12-pytorch/tokenized/train_data_tokenized.txt', 'wb') as fp:\n",
    "#     pickle.dump(train_data_tokenized, fp)\n",
    "# with open('train_attention_mask.txt', 'wb') as fp:\n",
    "#     pickle.dump(train_attention_mask, fp)    \n",
    "# with open('valid_data_tokenized.txt', 'wb') as fp:\n",
    "#     pickle.dump(valid_data_tokenized, fp)\n",
    "# with open('valid_attention_mask.txt', 'wb') as fp:\n",
    "#     pickle.dump(valid_attention_mask, fp)\n",
    "# with open('test_data_tokenized.txt', 'wb') as fp:\n",
    "#     pickle.dump(test_data_tokenized, fp)\n",
    "# with open('test_attention_mask.txt', 'wb') as fp:\n",
    "#     pickle.dump(test_attention_mask, fp)"
   ]
  },
  {
   "cell_type": "code",
   "execution_count": 12,
   "metadata": {},
   "outputs": [],
   "source": [
    "# # read back tokenized data\n",
    "# TOKEN_DATA_PATH = '/root/data/BERT/uncased_L-12_H-768_A-12-pytorch/tokenized/'\n",
    "# with open(TOKEN_DATA_PATH+'train_data_tokenized.txt', 'rb') as fp:\n",
    "#     train_data_tokenized=pickle.load(fp)\n",
    "# with open(TOKEN_DATA_PATH+'train_attention_mask.txt', 'rb') as fp:\n",
    "#     train_attention_mask=pickle.load(fp)    \n",
    "# with open(TOKEN_DATA_PATH+'valid_data_tokenized.txt', 'rb') as fp:\n",
    "#     valid_data_tokenized=pickle.load(fp)\n",
    "# with open(TOKEN_DATA_PATH+'valid_attention_mask.txt', 'rb') as fp:\n",
    "#     valid_attention_mask=pickle.load(fp)\n",
    "# with open(TOKEN_DATA_PATH+'test_data_tokenized.txt', 'rb') as fp:\n",
    "#     test_data_tokenized=pickle.load(fp)\n",
    "# with open(TOKEN_DATA_PATH+'test_attention_mask.txt', 'rb') as fp:\n",
    "#     test_attention_mask=pickle.load(fp)"
   ]
  },
  {
   "cell_type": "code",
   "execution_count": 13,
   "metadata": {},
   "outputs": [],
   "source": [
    "train_dataset = CreateDataset(train_data_tokenized,train_attention_mask,train_labels)\n",
    "train_sampler = RandomSampler(train_dataset)\n",
    "valid_dataset = CreateDataset(valid_data_tokenized,valid_attention_mask,valid_labels)\n",
    "valid_sampler = RandomSampler(valid_dataset)"
   ]
  },
  {
   "cell_type": "code",
   "execution_count": 41,
   "metadata": {},
   "outputs": [
    {
     "name": "stdout",
     "output_type": "stream",
     "text": [
      "Generated number of training batches:249\n",
      "Generated number of validation batches:62\n",
      "Number of training steps: 124.5\n",
      "Number of validation steps: 15.5625\n"
     ]
    }
   ],
   "source": [
    "# # Parameters for cloud GPU\n",
    "# train_params = {'batch_size': 48,\n",
    "#           'shuffle': False,\n",
    "#           'num_workers': 16}\n",
    "# valid_params = {'batch_size': 48,\n",
    "#           'shuffle': False,\n",
    "#           'num_workers': 16}\n",
    "\n",
    "# # Parameters for Suhas's Mac\n",
    "# train_params = {'batch_size': 128,\n",
    "#           'shuffle': False,\n",
    "#           'num_workers': 16}\n",
    "# valid_params = {'batch_size': 128,\n",
    "#           'shuffle': False,\n",
    "#           'num_workers': 16}\n",
    "\n",
    "# Parameters for local GPU\n",
    "train_params = {'batch_size': 32,\n",
    "          'shuffle': False,\n",
    "          'num_workers': 16}\n",
    "valid_params = {'batch_size': 32,\n",
    "          'shuffle': False,\n",
    "          'num_workers': 16}\n",
    "\n",
    "max_epochs = 5\n",
    "accumulation_steps = 10\n",
    "evaluation_steps   = 80\n",
    "\n",
    "# print(\"Expected number of batches:\", int(len(train_data_tokenized)/params['batch_size']))\n",
    "train_dataLoader = torch.utils.data.DataLoader(train_dataset,sampler=train_sampler,batch_size=train_params['batch_size'],\n",
    "                                         shuffle=train_params['shuffle'],\n",
    "                                         num_workers=train_params['num_workers'],\n",
    "                                         pin_memory=False,drop_last=True)\n",
    "valid_dataLoader = torch.utils.data.DataLoader(valid_dataset,sampler=valid_sampler,batch_size=valid_params['batch_size'],\n",
    "                                         shuffle=valid_params['shuffle'],\n",
    "                                         num_workers=valid_params['num_workers'],\n",
    "                                         pin_memory=False,drop_last=True)\n",
    "print(\"Generated number of training batches:%d\" %len(train_dataLoader))\n",
    "print(\"Generated number of validation batches:%d\" %len(valid_dataLoader))\n",
    "print(\"Number of training steps:\",len(train_dataLoader)*max_epochs/accumulation_steps)\n",
    "print(\"Number of validation steps:\",len(train_dataLoader)*max_epochs/evaluation_steps)\n"
   ]
  },
  {
   "cell_type": "markdown",
   "metadata": {},
   "source": [
    "#### Model Initialization and Training "
   ]
  },
  {
   "cell_type": "code",
   "execution_count": 42,
   "metadata": {
    "scrolled": false
   },
   "outputs": [],
   "source": [
    "# Initialize the model\n",
    "model,optimizer,scheduler,criterion,EPOCHS = bert_model1.initialize_model_for_training(len(train_dataLoader),\n",
    "                                                        EPOCHS=max_epochs,accumulation_steps=accumulation_steps)\n"
   ]
  },
  {
   "cell_type": "markdown",
   "metadata": {},
   "source": [
    "- Add mpi run capability for distributed processing\n"
   ]
  },
  {
   "cell_type": "code",
   "execution_count": 43,
   "metadata": {
    "scrolled": false
   },
   "outputs": [
    {
     "data": {
      "application/vnd.jupyter.widget-view+json": {
       "model_id": "",
       "version_major": 2,
       "version_minor": 0
      },
      "text/plain": [
       "HBox(children=(IntProgress(value=0, max=5), HTML(value='')))"
      ]
     },
     "metadata": {},
     "output_type": "display_data"
    },
    {
     "name": "stdout",
     "output_type": "stream",
     "text": [
      "--Training--\n"
     ]
    },
    {
     "data": {
      "application/vnd.jupyter.widget-view+json": {
       "model_id": "43c86dc8da124db7853eb9a50b0d19ac",
       "version_major": 2,
       "version_minor": 0
      },
      "text/plain": [
       "HBox(children=(IntProgress(value=0, max=249), HTML(value='')))"
      ]
     },
     "metadata": {},
     "output_type": "display_data"
    },
    {
     "name": "stdout",
     "output_type": "stream",
     "text": [
      "--I-- Running Validation\n"
     ]
    },
    {
     "data": {
      "application/vnd.jupyter.widget-view+json": {
       "model_id": "519abb64e0a64a718585de666f17a59b",
       "version_major": 2,
       "version_minor": 0
      },
      "text/plain": [
       "HBox(children=(IntProgress(value=0, max=62), HTML(value='')))"
      ]
     },
     "metadata": {},
     "output_type": "display_data"
    },
    {
     "name": "stdout",
     "output_type": "stream",
     "text": [
      "--I-- Running Validation\n"
     ]
    },
    {
     "data": {
      "application/vnd.jupyter.widget-view+json": {
       "model_id": "edbc0e2cd63e4aafaaeccb34ba8be5d9",
       "version_major": 2,
       "version_minor": 0
      },
      "text/plain": [
       "HBox(children=(IntProgress(value=0, max=62), HTML(value='')))"
      ]
     },
     "metadata": {},
     "output_type": "display_data"
    },
    {
     "name": "stdout",
     "output_type": "stream",
     "text": [
      "--I-- Running Validation\n"
     ]
    },
    {
     "data": {
      "application/vnd.jupyter.widget-view+json": {
       "model_id": "629d029c53d34a21b392c641d0a8c880",
       "version_major": 2,
       "version_minor": 0
      },
      "text/plain": [
       "HBox(children=(IntProgress(value=0, max=62), HTML(value='')))"
      ]
     },
     "metadata": {},
     "output_type": "display_data"
    },
    {
     "name": "stdout",
     "output_type": "stream",
     "text": [
      "--Training--\n"
     ]
    },
    {
     "data": {
      "application/vnd.jupyter.widget-view+json": {
       "model_id": "488100ae58104eedb400940ee8ca5887",
       "version_major": 2,
       "version_minor": 0
      },
      "text/plain": [
       "HBox(children=(IntProgress(value=0, max=249), HTML(value='')))"
      ]
     },
     "metadata": {},
     "output_type": "display_data"
    },
    {
     "name": "stdout",
     "output_type": "stream",
     "text": [
      "--I-- Running Validation\n"
     ]
    },
    {
     "data": {
      "application/vnd.jupyter.widget-view+json": {
       "model_id": "29f74f44aeef4e26800746e57faa9198",
       "version_major": 2,
       "version_minor": 0
      },
      "text/plain": [
       "HBox(children=(IntProgress(value=0, max=62), HTML(value='')))"
      ]
     },
     "metadata": {},
     "output_type": "display_data"
    },
    {
     "name": "stdout",
     "output_type": "stream",
     "text": [
      "--I-- Running Validation\n"
     ]
    },
    {
     "data": {
      "application/vnd.jupyter.widget-view+json": {
       "model_id": "42c351391bd144e9a3d75acf1762bc79",
       "version_major": 2,
       "version_minor": 0
      },
      "text/plain": [
       "HBox(children=(IntProgress(value=0, max=62), HTML(value='')))"
      ]
     },
     "metadata": {},
     "output_type": "display_data"
    },
    {
     "name": "stdout",
     "output_type": "stream",
     "text": [
      "--I-- Running Validation\n"
     ]
    },
    {
     "data": {
      "application/vnd.jupyter.widget-view+json": {
       "model_id": "17c0a8f38e01472682f2c9a32c6a1677",
       "version_major": 2,
       "version_minor": 0
      },
      "text/plain": [
       "HBox(children=(IntProgress(value=0, max=62), HTML(value='')))"
      ]
     },
     "metadata": {},
     "output_type": "display_data"
    },
    {
     "name": "stdout",
     "output_type": "stream",
     "text": [
      "--Training--\n"
     ]
    },
    {
     "data": {
      "application/vnd.jupyter.widget-view+json": {
       "model_id": "cfb8ae11f5064ddd848918d8280a172d",
       "version_major": 2,
       "version_minor": 0
      },
      "text/plain": [
       "HBox(children=(IntProgress(value=0, max=249), HTML(value='')))"
      ]
     },
     "metadata": {},
     "output_type": "display_data"
    },
    {
     "name": "stdout",
     "output_type": "stream",
     "text": [
      "--I-- Running Validation\n"
     ]
    },
    {
     "data": {
      "application/vnd.jupyter.widget-view+json": {
       "model_id": "c7cf09cc180448338e2d729228ddc42c",
       "version_major": 2,
       "version_minor": 0
      },
      "text/plain": [
       "HBox(children=(IntProgress(value=0, max=62), HTML(value='')))"
      ]
     },
     "metadata": {},
     "output_type": "display_data"
    },
    {
     "name": "stdout",
     "output_type": "stream",
     "text": [
      "--I-- Running Validation\n"
     ]
    },
    {
     "data": {
      "application/vnd.jupyter.widget-view+json": {
       "model_id": "26c5e55ff2584d28b07c050f26f7e20b",
       "version_major": 2,
       "version_minor": 0
      },
      "text/plain": [
       "HBox(children=(IntProgress(value=0, max=62), HTML(value='')))"
      ]
     },
     "metadata": {},
     "output_type": "display_data"
    },
    {
     "name": "stdout",
     "output_type": "stream",
     "text": [
      "--I-- Running Validation\n"
     ]
    },
    {
     "data": {
      "application/vnd.jupyter.widget-view+json": {
       "model_id": "075747600a5743998315df576d6d833f",
       "version_major": 2,
       "version_minor": 0
      },
      "text/plain": [
       "HBox(children=(IntProgress(value=0, max=62), HTML(value='')))"
      ]
     },
     "metadata": {},
     "output_type": "display_data"
    },
    {
     "name": "stdout",
     "output_type": "stream",
     "text": [
      "--Training--\n"
     ]
    },
    {
     "data": {
      "application/vnd.jupyter.widget-view+json": {
       "model_id": "4efeeb390f064e0ba60e71a8d99b0f5d",
       "version_major": 2,
       "version_minor": 0
      },
      "text/plain": [
       "HBox(children=(IntProgress(value=0, max=249), HTML(value='')))"
      ]
     },
     "metadata": {},
     "output_type": "display_data"
    },
    {
     "name": "stdout",
     "output_type": "stream",
     "text": [
      "--I-- Running Validation\n"
     ]
    },
    {
     "data": {
      "application/vnd.jupyter.widget-view+json": {
       "model_id": "4dd8ecb53e8140d3b0710875b42d725b",
       "version_major": 2,
       "version_minor": 0
      },
      "text/plain": [
       "HBox(children=(IntProgress(value=0, max=62), HTML(value='')))"
      ]
     },
     "metadata": {},
     "output_type": "display_data"
    },
    {
     "name": "stdout",
     "output_type": "stream",
     "text": [
      "--I-- Running Validation\n"
     ]
    },
    {
     "data": {
      "application/vnd.jupyter.widget-view+json": {
       "model_id": "1ff521f67e4349c996c8bf44e872ad87",
       "version_major": 2,
       "version_minor": 0
      },
      "text/plain": [
       "HBox(children=(IntProgress(value=0, max=62), HTML(value='')))"
      ]
     },
     "metadata": {},
     "output_type": "display_data"
    },
    {
     "name": "stdout",
     "output_type": "stream",
     "text": [
      "--I-- Running Validation\n"
     ]
    },
    {
     "data": {
      "application/vnd.jupyter.widget-view+json": {
       "model_id": "8cd6ab4c17d0420abff1217c92fa88e2",
       "version_major": 2,
       "version_minor": 0
      },
      "text/plain": [
       "HBox(children=(IntProgress(value=0, max=62), HTML(value='')))"
      ]
     },
     "metadata": {},
     "output_type": "display_data"
    },
    {
     "name": "stdout",
     "output_type": "stream",
     "text": [
      "--Training--\n"
     ]
    },
    {
     "data": {
      "application/vnd.jupyter.widget-view+json": {
       "model_id": "551ffca72c92483383bb2cea778ddccd",
       "version_major": 2,
       "version_minor": 0
      },
      "text/plain": [
       "HBox(children=(IntProgress(value=0, max=249), HTML(value='')))"
      ]
     },
     "metadata": {},
     "output_type": "display_data"
    },
    {
     "name": "stdout",
     "output_type": "stream",
     "text": [
      "--I-- Running Validation\n"
     ]
    },
    {
     "data": {
      "application/vnd.jupyter.widget-view+json": {
       "model_id": "08f92d99720040b284f6bfd0e8106b6d",
       "version_major": 2,
       "version_minor": 0
      },
      "text/plain": [
       "HBox(children=(IntProgress(value=0, max=62), HTML(value='')))"
      ]
     },
     "metadata": {},
     "output_type": "display_data"
    },
    {
     "name": "stdout",
     "output_type": "stream",
     "text": [
      "--I-- Running Validation\n"
     ]
    },
    {
     "data": {
      "application/vnd.jupyter.widget-view+json": {
       "model_id": "44d2aec38afb44628e565a10951f414d",
       "version_major": 2,
       "version_minor": 0
      },
      "text/plain": [
       "HBox(children=(IntProgress(value=0, max=62), HTML(value='')))"
      ]
     },
     "metadata": {},
     "output_type": "display_data"
    },
    {
     "name": "stdout",
     "output_type": "stream",
     "text": [
      "--I-- Running Validation\n"
     ]
    },
    {
     "data": {
      "application/vnd.jupyter.widget-view+json": {
       "model_id": "73dea0812161434f866ee3bbd4af5be1",
       "version_major": 2,
       "version_minor": 0
      },
      "text/plain": [
       "HBox(children=(IntProgress(value=0, max=62), HTML(value='')))"
      ]
     },
     "metadata": {},
     "output_type": "display_data"
    },
    {
     "name": "stdout",
     "output_type": "stream",
     "text": [
      "\r",
      "Training Time:868.92229 seconds\n"
     ]
    }
   ],
   "source": [
    "# Train \n",
    "\n",
    "# Set the prediction threshold for classifying sarcasm \n",
    "PREDICTION_THRESHOLD=0.8\n",
    "\n",
    "# Set and check logdir for tensorboard \n",
    "    # - Training will not start if the logdir specified is present but not empty\n",
    "    # - Provide a new name for logdir or empty the contents of exisiting one. This is to prevent clobbering of logs\n",
    "    \n",
    "logdir = './logs/epoch1_small_thres-0.8/' # Tensorboard log directory\n",
    "logdirFlag = False\n",
    "if os.path.exists(logdir) and os.path.isdir(logdir):\n",
    "    if not os.listdir(logdir):\n",
    "        logdirFlag=True\n",
    "    else:    \n",
    "        print(\"Log directory is not empty\")\n",
    "else:\n",
    "    os.makedirs(logdir)\n",
    "    logdirFlag=True\n",
    "\n",
    "if (logdirFlag):\n",
    "    start = time.time()\n",
    "    trained_model,training_stats,validation_stats=\\\n",
    "            bert_model1.run_training(model,train_dataLoader,valid_dataLoader,\n",
    "                   optimizer=optimizer,scheduler=scheduler,criterion=criterion,\n",
    "                   pred_thres=PREDICTION_THRESHOLD,EPOCHS=EPOCHS,\n",
    "                   accumulation_steps=accumulation_steps,evaluation_steps=evaluation_steps,\n",
    "                   logdir=logdir)\n",
    "\n",
    "    print(\"Training Time:%0.5f seconds\" %(time.time()-start))"
   ]
  },
  {
   "cell_type": "code",
   "execution_count": 17,
   "metadata": {},
   "outputs": [],
   "source": [
    "training_losses = [x['train_loss'] for x in training_stats]\n",
    "training_acc = [x['train_acc'] for x in training_stats]"
   ]
  },
  {
   "cell_type": "code",
   "execution_count": 18,
   "metadata": {
    "scrolled": true
   },
   "outputs": [
    {
     "data": {
      "text/plain": [
       "[0.7282757759094238,\n",
       " 0.7148486562073231,\n",
       " 0.7075344944993655,\n",
       " 0.7044851966202259,\n",
       " 0.7026869133114815,\n",
       " 0.7007988939682642,\n",
       " 0.7004960424133709,\n",
       " 0.7000387040898204,\n",
       " 0.6996709663006995,\n",
       " 0.6987383730709553,\n",
       " 0.6984744464809244,\n",
       " 0.6976328007876873,\n",
       " 0.6970618957510362,\n",
       " 0.6969152188726834,\n",
       " 0.6969694182276726,\n",
       " 0.6967747318558395,\n",
       " 0.7212101571700152,\n",
       " 0.7196783055033948,\n",
       " 0.718276010924264,\n",
       " 0.7169661529362201,\n",
       " 0.715746263662974,\n",
       " 0.7146223857998848,\n",
       " 0.713702427952186,\n",
       " 0.7129313039282957,\n",
       " 0.7122778216004372,\n",
       " 0.7116542054483523,\n",
       " 0.7108134834302796,\n",
       " 0.7101079560816288,\n",
       " 0.7095644091223848,\n",
       " 0.708910820633173,\n",
       " 0.7083111648117343,\n",
       " 0.7077841919381171,\n",
       " 0.7198072132287603,\n",
       " 0.7191048382836229,\n",
       " 0.7183085188269616,\n",
       " 0.7176034823060036,\n",
       " 0.7169759551415572,\n",
       " 0.7163007847572628,\n",
       " 0.715649993182757,\n",
       " 0.7151731269434094,\n",
       " 0.7145111448154217,\n",
       " 0.7139971603949865,\n",
       " 0.7134632052377213,\n",
       " 0.7130091136152094,\n",
       " 0.7125829203261269,\n",
       " 0.7121263928711414,\n",
       " 0.7117404783976838,\n",
       " 0.7113757496699691,\n",
       " 0.7194673399231872,\n",
       " 0.7189088900387287,\n",
       " 0.7184294305887877,\n",
       " 0.7179006171914247,\n",
       " 0.7173522096478714,\n",
       " 0.7168370598444233,\n",
       " 0.7163995121013035,\n",
       " 0.7159356732985803,\n",
       " 0.7154952384400786,\n",
       " 0.7151199917084184,\n",
       " 0.7147217469952875,\n",
       " 0.7144251332928737,\n",
       " 0.7140622611661427,\n",
       " 0.7137633607752861,\n",
       " 0.7134350774780153,\n",
       " 0.7131396456388757,\n",
       " 0.7191413959631553,\n",
       " 0.7187438057453344,\n",
       " 0.7183366685883322,\n",
       " 0.7179206239388269,\n",
       " 0.7175780421365863,\n",
       " 0.7172690971621445,\n",
       " 0.7169156359954619,\n",
       " 0.7165974330984883,\n",
       " 0.7162560550113247,\n",
       " 0.7159375988349721,\n",
       " 0.7156178454558054,\n",
       " 0.7153414578029984,\n",
       " 0.7150213317824649,\n",
       " 0.7147422976409777,\n",
       " 0.7144770081850547,\n",
       " 0.7142377161420882]"
      ]
     },
     "execution_count": 18,
     "metadata": {},
     "output_type": "execute_result"
    },
    {
     "data": {
      "text/plain": [
       "[0.029241968888834298,\n",
       " 0.02961847473339862,\n",
       " 0.029451138642897084,\n",
       " 0.0296184746885156,\n",
       " 0.02946787218013442,\n",
       " 0.0298485617381502,\n",
       " 0.029708119016301014,\n",
       " 0.029932229745998466,\n",
       " 0.029911312811984295,\n",
       " 0.029756526990109184,\n",
       " 0.02999498080645829,\n",
       " 0.02998452234160467,\n",
       " 0.0299660188246922,\n",
       " 0.02986051438443629,\n",
       " 0.029953146818651213,\n",
       " 0.029963605307850447,\n",
       " 0.03081443509803771,\n",
       " 0.030831660850938525,\n",
       " 0.03081404653507164,\n",
       " 0.030798193641814832,\n",
       " 0.030813731984099084,\n",
       " 0.03086779020147282,\n",
       " 0.030835298576424926,\n",
       " 0.03072707582429711,\n",
       " 0.030667671546878602,\n",
       " 0.030661106834652486,\n",
       " 0.030617842612815527,\n",
       " 0.030559739851346333,\n",
       " 0.03051429947332868,\n",
       " 0.030513722458517707,\n",
       " 0.03052532803187611,\n",
       " 0.030446003673665515,\n",
       " 0.030998996919678633,\n",
       " 0.03091778974217107,\n",
       " 0.030801779472889493,\n",
       " 0.03078285456102699,\n",
       " 0.030758168731516822,\n",
       " 0.030738084837463625,\n",
       " 0.030735120900000662,\n",
       " 0.030688379440142487,\n",
       " 0.03069595547238068,\n",
       " 0.03070615888992676,\n",
       " 0.030642921444781236,\n",
       " 0.030613933929608452,\n",
       " 0.030602968349514297,\n",
       " 0.03058702292993102,\n",
       " 0.030582437046794773,\n",
       " 0.030609417755351327,\n",
       " 0.030981068056281116,\n",
       " 0.03092620575284393,\n",
       " 0.030880877379827105,\n",
       " 0.030885562407710895,\n",
       " 0.03087586287098283,\n",
       " 0.030910680704699937,\n",
       " 0.03091228645445885,\n",
       " 0.030922799289431813,\n",
       " 0.030875696717773172,\n",
       " 0.030899460865072562,\n",
       " 0.030903275067864288,\n",
       " 0.030877678332678394,\n",
       " 0.03084057637196212,\n",
       " 0.03080264702468276,\n",
       " 0.03078584273542232,\n",
       " 0.030763680673574764,\n",
       " 0.030981619745852118,\n",
       " 0.030941950579593234,\n",
       " 0.03096153365903324,\n",
       " 0.030925172232593195,\n",
       " 0.030913510072474962,\n",
       " 0.03089500956506628,\n",
       " 0.030891171276781912,\n",
       " 0.03083514709678932,\n",
       " 0.03082879558562222,\n",
       " 0.030841271437580968,\n",
       " 0.030818274045086427,\n",
       " 0.03079092781341158,\n",
       " 0.03079200011289408,\n",
       " 0.030754428915046636,\n",
       " 0.030778176940503894,\n",
       " 0.030782505970852348]"
      ]
     },
     "execution_count": 18,
     "metadata": {},
     "output_type": "execute_result"
    }
   ],
   "source": [
    "training_losses\n",
    "training_acc"
   ]
  },
  {
   "cell_type": "code",
   "execution_count": 22,
   "metadata": {
    "scrolled": true
   },
   "outputs": [
    {
     "data": {
      "text/plain": [
       "[<matplotlib.lines.Line2D at 0x7f7ac7ea90f0>]"
      ]
     },
     "execution_count": 22,
     "metadata": {},
     "output_type": "execute_result"
    },
    {
     "data": {
      "image/png": "[encoded data removed]",
      "text/plain": [
       "<Figure size 432x288 with 1 Axes>"
      ]
     },
     "metadata": {
      "needs_background": "light"
     },
     "output_type": "display_data"
    }
   ],
   "source": [
    "plt.plot(training_losses)"
   ]
  },
  {
   "cell_type": "code",
   "execution_count": 23,
   "metadata": {},
   "outputs": [
    {
     "data": {
      "text/plain": [
       "[<matplotlib.lines.Line2D at 0x7f7ac7453470>]"
      ]
     },
     "execution_count": 23,
     "metadata": {},
     "output_type": "execute_result"
    },
    {
     "data": {
      "image/png": "[encoded data removed]",
      "text/plain": [
       "<Figure size 432x288 with 1 Axes>"
      ]
     },
     "metadata": {
      "needs_background": "light"
     },
     "output_type": "display_data"
    }
   ],
   "source": [
    "plt.plot(training_acc)"
   ]
  },
  {
   "cell_type": "code",
   "execution_count": 24,
   "metadata": {},
   "outputs": [],
   "source": [
    "# MODEL_PATH = \"/root/data/BERT/uncased_L-12_H-768_A-12-pytorch/pytorch-model-checkpoint-2epoch-suhas.bin\"\n",
    "MODEL_DIR = \"/root/data/BERT/uncased_L-12_H-768_A-12-pytorch/\"\n",
    "model_checkpoint_name=\"pytorch-model-checkpoint-5epoch-smalldata-thresh-0p8.bin\"\n",
    "# torch.save(trained_model,MODEL_PATH+model_checkpoint_name)\n",
    "# Save the trained model to a file\n",
    "torch.save(trained_model,MODEL_DIR+model_checkpoint_name)"
   ]
  },
  {
   "cell_type": "code",
   "execution_count": 28,
   "metadata": {},
   "outputs": [],
   "source": [
    "# # Saving best-practices: if you use defaults names for the model, you can reload it using from_pretrained()\n",
    "\n",
    "# output_dir = '/root/data/BERT/trained-models-balanced_data-seq_128-epoch_2-lr_2e-5/'\n",
    "\n",
    "# # Create output directory if needed\n",
    "# if not os.path.exists(output_dir):\n",
    "#     os.makedirs(output_dir)\n",
    "\n",
    "# print(\"Saving model to %s\" % output_dir)\n",
    "\n",
    "# model = trained_model\n",
    "# # Save a trained model, configuration and tokenizer using `save_pretrained()`.\n",
    "# # They can then be reloaded using `from_pretrained()`\n",
    "# model_to_save = model.module if hasattr(model, 'module') else model  # Take care of distributed/parallel training\n",
    "# model_to_save.save_pretrained(output_dir)\n",
    "# tokenizer.save_pretrained(output_dir)\n"
   ]
  },
  {
   "cell_type": "code",
   "execution_count": null,
   "metadata": {},
   "outputs": [],
   "source": []
  }
 ],
 "metadata": {
  "kernelspec": {
   "display_name": "Python 3",
   "language": "python",
   "name": "python3"
  },
  "language_info": {
   "codemirror_mode": {
    "name": "ipython",
    "version": 3
   },
   "file_extension": ".py",
   "mimetype": "text/x-python",
   "name": "python",
   "nbconvert_exporter": "python",
   "pygments_lexer": "ipython3",
   "version": "3.6.8"
  }
 },
 "nbformat": 4,
 "nbformat_minor": 2
}
