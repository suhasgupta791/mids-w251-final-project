{
 "cells": [
  {
   "cell_type": "code",
   "execution_count": 50,
   "metadata": {},
   "outputs": [
    {
     "name": "stdout",
     "output_type": "stream",
     "text": [
      "The autoreload extension is already loaded. To reload it, use:\n",
      "  %reload_ext autoreload\n"
     ]
    },
    {
     "data": {
      "text/plain": [
       "<torch._C.Generator at 0x122df9ed0>"
      ]
     },
     "execution_count": 50,
     "metadata": {},
     "output_type": "execute_result"
    }
   ],
   "source": [
    "import ijson\n",
    "import itertools\n",
    "import random\n",
    "import numpy as np\n",
    "import sys, os\n",
    "import pandas as pd \n",
    "import torch\n",
    "from torchsummary import summary\n",
    "from torchtext import data\n",
    "import torch.nn as nn\n",
    "import torch.utils.data\n",
    "from torch.utils.data import Dataset, TensorDataset,DataLoader\n",
    "import torch.nn.functional as F\n",
    "from sklearn.metrics import roc_auc_score\n",
    "from tqdm import tqdm, tqdm_notebook\n",
    "from IPython.core.interactiveshell import InteractiveShell\n",
    "InteractiveShell.ast_node_interactivity = \"all\"\n",
    "import warnings\n",
    "warnings.filterwarnings(action='once')\n",
    "import pickle\n",
    "from docopt import docopt\n",
    "import time\n",
    "from torch.autograd import Variable\n",
    "import transformers\n",
    "# from apex import amp\n",
    "import shutil\n",
    "import matplotlib\n",
    "import matplotlib.pyplot as plt\n",
    "\n",
    "%load_ext autoreload\n",
    "%autoreload 2\n",
    "%matplotlib inline\n",
    "\n",
    "\n",
    "SEED = 7219\n",
    "random.seed(SEED)\n",
    "np.random.seed(SEED)\n",
    "torch.manual_seed(SEED)\n",
    "torch.backends.cudnn.deterministic = True"
   ]
  },
  {
   "cell_type": "code",
   "execution_count": 2,
   "metadata": {},
   "outputs": [],
   "source": [
    "# Import transformers specific packages\n",
    "from transformers import BertTokenizer, BertModel, BertConfig\n",
    "from transformers import  BertForSequenceClassification, BertForTokenClassification\n",
    "from transformers import AdamW, get_linear_schedule_with_warmup\n",
    "#from transformers import WarmupLinearSchedule as get_linear_schedule_with_warmup\n",
    "#"
   ]
  },
  {
   "cell_type": "code",
   "execution_count": 3,
   "metadata": {},
   "outputs": [
    {
     "data": {
      "text/plain": [
       "device(type='cpu')"
      ]
     },
     "execution_count": 3,
     "metadata": {},
     "output_type": "execute_result"
    }
   ],
   "source": [
    "# Set the device and empty cache \n",
    "device = torch.device('cuda' if torch.cuda.is_available() else 'cpu')\n",
    "# cudnn.benchmark = True\n",
    "torch.cuda.empty_cache()\n",
    "device\n",
    "#model.to(device)"
   ]
  },
  {
   "cell_type": "code",
   "execution_count": 22,
   "metadata": {},
   "outputs": [],
   "source": [
    "def tokenize_text(df, max_seq_len):\n",
    "    return [\n",
    "        tokenizer.encode(text, add_special_tokens=True)[:max_seq_len] for text in df.text.values\n",
    "    ]\n",
    "\n",
    "\n",
    "def pad_text(tokenized_text, max_seq_len):\n",
    "    return np.array([el + [0] * (max_seq_len - len(el)) for el in tokenized_text])\n",
    "\n",
    "\n",
    "def tokenize_and_pad_text(df, max_seq_len):\n",
    "    tokenized_text = tokenize_text(df, max_seq_len)\n",
    "    padded_text = pad_text(tokenized_text, max_seq_len)\n",
    "    return torch.tensor(padded_text)\n",
    "\n",
    "\n",
    "def targets_to_tensor(df):\n",
    "    return torch.tensor(df.label.values, dtype=torch.float32)"
   ]
  },
  {
   "cell_type": "code",
   "execution_count": 42,
   "metadata": {},
   "outputs": [],
   "source": [
    "class BertCNN(nn.Module):\n",
    "    def __init__(self, embed_num, embed_dim, class_num, kernel_num, kernel_sizes, dropout, static):\n",
    "        super(BertCNN, self).__init__()\n",
    "\n",
    "        V = embed_num\n",
    "        D = embed_dim\n",
    "        C = class_num\n",
    "        Co = kernel_num\n",
    "        Ks = kernel_sizes\n",
    "        \n",
    "        self.static = static\n",
    "        self.embed = nn.Embedding(embed_num, embed_dim)\n",
    "        self.convs1 = nn.ModuleList([nn.Conv2d(1, kernel_num, (Ks, embed_dim)) for Ks in kernel_sizes])\n",
    "        self.dropout = nn.Dropout(dropout)\n",
    "        self.fc1 = nn.Linear(len(kernel_sizes) * kernel_num, class_num)\n",
    "        self.sigmoid = nn.Sigmoid()\n",
    "        \n",
    "\n",
    "    \n",
    "    def forward(self, x):\n",
    "        if self.static:\n",
    "            x = Variable(x)\n",
    "\n",
    "        x = x.unsqueeze(1)  # (N, Ci, W, D)\n",
    "\n",
    "        x = [F.relu(conv(x)).squeeze(3) for conv in self.convs1]  # [(N, Co, W), ...]*len(Ks)\n",
    "\n",
    "        x = [F.max_pool1d(i, i.size(2)).squeeze(2) for i in x]  # [(N, Co), ...]*len(Ks)\n",
    "\n",
    "        x = torch.cat(x, 1)\n",
    "        x = self.dropout(x)  # (N, len(Ks)*Co)\n",
    "        logit = self.fc1(x)  # (N, C)\n",
    "        output = self.sigmoid(logit)\n",
    "        return output\n"
   ]
  },
  {
   "cell_type": "code",
   "execution_count": 46,
   "metadata": {},
   "outputs": [],
   "source": [
    "def generate_batch_data(x, y, batch_size):\n",
    "    i, batch = 0, 0\n",
    "    for batch, i in enumerate(range(0, len(x) - batch_size, batch_size), 1):\n",
    "        x_batch = x[i : i + batch_size]\n",
    "        y_batch = y[i : i + batch_size]\n",
    "        yield x_batch, y_batch, batch\n",
    "    if i + batch_size < len(x):\n",
    "        yield x[i + batch_size :], y[i + batch_size :], batch + 1\n",
    "    if batch == 0:\n",
    "        yield x, y, 1"
   ]
  },
  {
   "cell_type": "markdown",
   "metadata": {},
   "source": [
    "# Define constants and paths #"
   ]
  },
  {
   "cell_type": "code",
   "execution_count": 4,
   "metadata": {},
   "outputs": [],
   "source": [
    "seed = 7843\n",
    "bert_model_name = \"bert-base-uncased\"\n",
    "# Convert TF checkpoint to pytorch chckpoint and then use as input to class object\n",
    "bert_model_path = \"/Users/debalinamaiti/Documents/GraduateStudy/MIDS/W251/FinalProject/mids-w251-final-project/models/Tranformer_based/uncased_L-12_H-768_A-12/\"\n",
    "# data_path = \"/Users/suhasgupta/w251/mids-w251-final-project/data/nlp.cs.princeton.edu/SARC/2.0/pol/\"\n",
    "data_path = \"/Users/debalinamaiti/Documents/GraduateStudy/MIDS/W251/FinalProject/mids-w251-final-project/models/Tranformer_based/data/\"\n",
    "work_dir = \"/Users/debalinamaiti/Documents/GraduateStudy/MIDS/W251/FinalProject/mids-w251-final-project/models/Tranformer_based/workingdir/\"\n",
    "\n",
    "#tokenizer = BertTokenizer.from_pretrained(bert_model_name, cache_dir=None,do_lower_case=True)\n",
    "max_seq_len = 64\n"
   ]
  },
  {
   "cell_type": "markdown",
   "metadata": {},
   "source": [
    "# Data Loading"
   ]
  },
  {
   "cell_type": "code",
   "execution_count": 19,
   "metadata": {},
   "outputs": [
    {
     "name": "stdout",
     "output_type": "stream",
     "text": [
      "799 200 999\n",
      "     Unnamed: 0                                               text  label\n",
      "343         343  gasp, the injustice of not being able to be a ...      1\n",
      "434         434  if reddit was run by racism-powered generators...      0\n",
      "778         778  Do they honestly think anyone is going to want...      0\n",
      "17           17  Am I weird if almost every one of those pictur...      0\n",
      "511         511      It's worth every penny to bring Jeeezus back.      1\n",
      "..          ...                                                ...    ...\n",
      "299         299  If someone x-ray'd my brand new computer they'...      0\n",
      "168         168                    Another marijuana related death      1\n",
      "613         613  Thin privilege is not needing a billboard to f...      0\n",
      "166         166     Let's bring Carlos Lee back while we're at it.      1\n",
      "629         629  Yeah... that'll send them away without suspicion.      1\n",
      "\n",
      "[799 rows x 3 columns]\n"
     ]
    }
   ],
   "source": [
    "\n",
    "# Load and check the dataset from files on disk \n",
    "train_file_name = data_path+'small_train.csv'\n",
    "test_file_name  = data_path+'small_test.csv'\n",
    "# train_file_name = data_path+'train_balanced_with_label.csv'\n",
    "# test_file_name = data_path+'test_balanced_with_label.csv'\n",
    "\n",
    "all_train_df = pd.read_csv(train_file_name)\n",
    "test_df = pd.read_csv(test_file_name)\n",
    "\n",
    "# Fill NA with DUMMY VALUE\n",
    "# all_train_df.text = all_train_df.text.fillna(\"DUMMY_VALUE\")\n",
    "# test_df.text = test_df.text.fillna(\"DUMMY_VALUE\")\n",
    "\n",
    "# Create a train, valid split\n",
    "from sklearn.model_selection import train_test_split\n",
    "train_df, valid_df = train_test_split(all_train_df, test_size=0.2,random_state=seed)\n",
    "\n",
    "# Fill NA with DUMMY VALUE\n",
    "train_data   = train_df.text.fillna(\"DUMMY_VALUE\")\n",
    "train_labels = train_df.label\n",
    "valid_data  = valid_df.text.fillna(\"DUMMY_VALUE\")\n",
    "valid_labels = valid_df.label\n",
    "test_data  = test_df.text.fillna(\"DUMMY_VALUE\")\n",
    "test_labels = test_df.label\n",
    "\n",
    "train_size,valid_size,test_size = len(train_df),len(valid_df),len(test_df)\n",
    "print(train_size,valid_size,test_size)\n",
    "print(train_df)"
   ]
  },
  {
   "cell_type": "markdown",
   "metadata": {},
   "source": [
    "# Create Dataset"
   ]
  },
  {
   "cell_type": "code",
   "execution_count": 8,
   "metadata": {},
   "outputs": [],
   "source": [
    "# train_dataset = CreateDataset(train_data_tokenized,train_labels)\n",
    "# valid_dataset = CreateDataset(valid_data_tokenized,valid_labels)\n",
    "# test_dateset = CreateDataset(valid_data_tokenized,valid_labels) # Added by D"
   ]
  },
  {
   "cell_type": "markdown",
   "metadata": {},
   "source": [
    "# Loading pre-trained BERT Model"
   ]
  },
  {
   "cell_type": "code",
   "execution_count": 9,
   "metadata": {},
   "outputs": [],
   "source": [
    "## Want BERT instead of distilBERT? Uncomment the following line:\n",
    "model_class, tokenizer_class, pretrained_weights = (BertModel, BertTokenizer, bert_model_name)\n",
    "\n",
    "tokenizer = tokenizer_class.from_pretrained(pretrained_weights, cache_dir=None,do_lower_case=True)\n",
    "\n",
    "# Load pretrained model\n",
    "\n",
    "basemodel = model_class.from_pretrained(pretrained_weights)\n",
    "# Create a model object \n",
    "# bert_model=Bert_Model(train_df=train_df,\n",
    "#                       test_df=test_df,\n",
    "#                       bert_model_name=bert_model_name,\n",
    "#                       bert_model_path=bert_model_path,\n",
    "#                       tokenizer=tokenizer,\n",
    "#                       max_seq_length=max_seq_len)"
   ]
  },
  {
   "cell_type": "markdown",
   "metadata": {},
   "source": [
    "## Tokenization ##"
   ]
  },
  {
   "cell_type": "code",
   "execution_count": 14,
   "metadata": {},
   "outputs": [],
   "source": [
    "train_indices = tokenize_and_pad_text(train_df, max_seq_len)\n",
    "val_indices = tokenize_and_pad_text(valid_df, max_seq_len)\n",
    "test_indices = tokenize_and_pad_text(test_df, max_seq_len)"
   ]
  },
  {
   "cell_type": "code",
   "execution_count": 13,
   "metadata": {},
   "outputs": [
    {
     "data": {
      "text/plain": [
       "torch.Size([799, 64])"
      ]
     },
     "execution_count": 13,
     "metadata": {},
     "output_type": "execute_result"
    }
   ],
   "source": [
    "train_indices.shape"
   ]
  },
  {
   "cell_type": "markdown",
   "metadata": {},
   "source": [
    "# Run BERT Model"
   ]
  },
  {
   "cell_type": "code",
   "execution_count": 16,
   "metadata": {},
   "outputs": [],
   "source": [
    "with torch.no_grad():\n",
    "    x_train = basemodel(train_indices)[0]  # Models outputs are tuples\n",
    "    x_val = basemodel(val_indices)[0]\n",
    "    x_test = basemodel(test_indices)[0]"
   ]
  },
  {
   "cell_type": "code",
   "execution_count": 23,
   "metadata": {},
   "outputs": [],
   "source": [
    "y_train = targets_to_tensor(train_df)\n",
    "y_val = targets_to_tensor(valid_df)\n",
    "y_test = targets_to_tensor(test_df)"
   ]
  },
  {
   "cell_type": "code",
   "execution_count": 33,
   "metadata": {},
   "outputs": [
    {
     "data": {
      "text/plain": [
       "torch.Size([64, 768])"
      ]
     },
     "execution_count": 33,
     "metadata": {},
     "output_type": "execute_result"
    },
    {
     "data": {
      "text/plain": [
       "64"
      ]
     },
     "execution_count": 33,
     "metadata": {},
     "output_type": "execute_result"
    },
    {
     "data": {
      "text/plain": [
       "768"
      ]
     },
     "execution_count": 33,
     "metadata": {},
     "output_type": "execute_result"
    }
   ],
   "source": [
    "x_train[0].shape\n",
    "x_train.shape[1]\n",
    "x_train.shape[2]"
   ]
  },
  {
   "cell_type": "code",
   "execution_count": 36,
   "metadata": {},
   "outputs": [
    {
     "data": {
      "text/plain": [
       "799"
      ]
     },
     "execution_count": 36,
     "metadata": {},
     "output_type": "execute_result"
    },
    {
     "data": {
      "text/plain": [
       "tensor(1.)"
      ]
     },
     "execution_count": 36,
     "metadata": {},
     "output_type": "execute_result"
    }
   ],
   "source": [
    "len(y_train)\n",
    "y_train[0]"
   ]
  },
  {
   "cell_type": "markdown",
   "metadata": {},
   "source": [
    "# Build Custom BERT CNN Model"
   ]
  },
  {
   "cell_type": "markdown",
   "metadata": {},
   "source": [
    "## Initialize Model Parameters ##"
   ]
  },
  {
   "cell_type": "code",
   "execution_count": 38,
   "metadata": {},
   "outputs": [],
   "source": [
    "#n_batch = 1#int(len(train_data_tokenized)/params['batch_size'])\n",
    "total_loss = 0\n",
    "\n",
    "\n",
    "embed_num = x_train.shape[1]\n",
    "embed_dim = x_train.shape[2]\n",
    "class_num = 1\n",
    "kernel_num = 3\n",
    "kernel_sizes = [2, 3, 4]\n",
    "dropout = 0.5\n",
    "static = True"
   ]
  },
  {
   "cell_type": "code",
   "execution_count": 43,
   "metadata": {
    "scrolled": false
   },
   "outputs": [],
   "source": [
    "BertCnnModel = BertCNN(\n",
    "    embed_num=embed_num,\n",
    "    embed_dim=embed_dim,\n",
    "    class_num=class_num,\n",
    "    kernel_num=kernel_num,\n",
    "    kernel_sizes=kernel_sizes,\n",
    "    dropout=dropout,\n",
    "    static=static\n",
    "    )\n",
    "\n",
    "#BertCnnModel.train()"
   ]
  },
  {
   "cell_type": "markdown",
   "metadata": {},
   "source": [
    "## Define Training Parameters##"
   ]
  },
  {
   "cell_type": "code",
   "execution_count": 45,
   "metadata": {},
   "outputs": [],
   "source": [
    "n_epochs = 10\n",
    "batch_size = 10\n",
    "lr = 0.001\n",
    "optimizer = torch.optim.Adam(BertCnnModel.parameters(), lr=lr)\n",
    "loss_fn = nn.BCELoss()"
   ]
  },
  {
   "cell_type": "code",
   "execution_count": 49,
   "metadata": {},
   "outputs": [
    {
     "data": {
      "text/plain": [
       "BertCNN(\n",
       "  (embed): Embedding(64, 768)\n",
       "  (convs1): ModuleList(\n",
       "    (0): Conv2d(1, 3, kernel_size=(2, 768), stride=(1, 1))\n",
       "    (1): Conv2d(1, 3, kernel_size=(3, 768), stride=(1, 1))\n",
       "    (2): Conv2d(1, 3, kernel_size=(4, 768), stride=(1, 1))\n",
       "  )\n",
       "  (dropout): Dropout(p=0.5, inplace=False)\n",
       "  (fc1): Linear(in_features=9, out_features=1, bias=True)\n",
       "  (sigmoid): Sigmoid()\n",
       ")"
      ]
     },
     "execution_count": 49,
     "metadata": {},
     "output_type": "execute_result"
    },
    {
     "data": {
      "text/plain": [
       "BertCNN(\n",
       "  (embed): Embedding(64, 768)\n",
       "  (convs1): ModuleList(\n",
       "    (0): Conv2d(1, 3, kernel_size=(2, 768), stride=(1, 1))\n",
       "    (1): Conv2d(1, 3, kernel_size=(3, 768), stride=(1, 1))\n",
       "    (2): Conv2d(1, 3, kernel_size=(4, 768), stride=(1, 1))\n",
       "  )\n",
       "  (dropout): Dropout(p=0.5, inplace=False)\n",
       "  (fc1): Linear(in_features=9, out_features=1, bias=True)\n",
       "  (sigmoid): Sigmoid()\n",
       ")"
      ]
     },
     "execution_count": 49,
     "metadata": {},
     "output_type": "execute_result"
    },
    {
     "name": "stdout",
     "output_type": "stream",
     "text": [
      "Epoch 1 Train loss: 0.69. Validation loss: 0.66. Elapsed time: 3.48s.\n"
     ]
    },
    {
     "data": {
      "text/plain": [
       "BertCNN(\n",
       "  (embed): Embedding(64, 768)\n",
       "  (convs1): ModuleList(\n",
       "    (0): Conv2d(1, 3, kernel_size=(2, 768), stride=(1, 1))\n",
       "    (1): Conv2d(1, 3, kernel_size=(3, 768), stride=(1, 1))\n",
       "    (2): Conv2d(1, 3, kernel_size=(4, 768), stride=(1, 1))\n",
       "  )\n",
       "  (dropout): Dropout(p=0.5, inplace=False)\n",
       "  (fc1): Linear(in_features=9, out_features=1, bias=True)\n",
       "  (sigmoid): Sigmoid()\n",
       ")"
      ]
     },
     "execution_count": 49,
     "metadata": {},
     "output_type": "execute_result"
    },
    {
     "data": {
      "text/plain": [
       "BertCNN(\n",
       "  (embed): Embedding(64, 768)\n",
       "  (convs1): ModuleList(\n",
       "    (0): Conv2d(1, 3, kernel_size=(2, 768), stride=(1, 1))\n",
       "    (1): Conv2d(1, 3, kernel_size=(3, 768), stride=(1, 1))\n",
       "    (2): Conv2d(1, 3, kernel_size=(4, 768), stride=(1, 1))\n",
       "  )\n",
       "  (dropout): Dropout(p=0.5, inplace=False)\n",
       "  (fc1): Linear(in_features=9, out_features=1, bias=True)\n",
       "  (sigmoid): Sigmoid()\n",
       ")"
      ]
     },
     "execution_count": 49,
     "metadata": {},
     "output_type": "execute_result"
    },
    {
     "name": "stdout",
     "output_type": "stream",
     "text": [
      "Epoch 2 Train loss: 0.67. Validation loss: 0.63. Elapsed time: 3.36s.\n"
     ]
    },
    {
     "data": {
      "text/plain": [
       "BertCNN(\n",
       "  (embed): Embedding(64, 768)\n",
       "  (convs1): ModuleList(\n",
       "    (0): Conv2d(1, 3, kernel_size=(2, 768), stride=(1, 1))\n",
       "    (1): Conv2d(1, 3, kernel_size=(3, 768), stride=(1, 1))\n",
       "    (2): Conv2d(1, 3, kernel_size=(4, 768), stride=(1, 1))\n",
       "  )\n",
       "  (dropout): Dropout(p=0.5, inplace=False)\n",
       "  (fc1): Linear(in_features=9, out_features=1, bias=True)\n",
       "  (sigmoid): Sigmoid()\n",
       ")"
      ]
     },
     "execution_count": 49,
     "metadata": {},
     "output_type": "execute_result"
    },
    {
     "data": {
      "text/plain": [
       "BertCNN(\n",
       "  (embed): Embedding(64, 768)\n",
       "  (convs1): ModuleList(\n",
       "    (0): Conv2d(1, 3, kernel_size=(2, 768), stride=(1, 1))\n",
       "    (1): Conv2d(1, 3, kernel_size=(3, 768), stride=(1, 1))\n",
       "    (2): Conv2d(1, 3, kernel_size=(4, 768), stride=(1, 1))\n",
       "  )\n",
       "  (dropout): Dropout(p=0.5, inplace=False)\n",
       "  (fc1): Linear(in_features=9, out_features=1, bias=True)\n",
       "  (sigmoid): Sigmoid()\n",
       ")"
      ]
     },
     "execution_count": 49,
     "metadata": {},
     "output_type": "execute_result"
    },
    {
     "name": "stdout",
     "output_type": "stream",
     "text": [
      "Epoch 3 Train loss: 0.65. Validation loss: 0.61. Elapsed time: 3.22s.\n"
     ]
    },
    {
     "data": {
      "text/plain": [
       "BertCNN(\n",
       "  (embed): Embedding(64, 768)\n",
       "  (convs1): ModuleList(\n",
       "    (0): Conv2d(1, 3, kernel_size=(2, 768), stride=(1, 1))\n",
       "    (1): Conv2d(1, 3, kernel_size=(3, 768), stride=(1, 1))\n",
       "    (2): Conv2d(1, 3, kernel_size=(4, 768), stride=(1, 1))\n",
       "  )\n",
       "  (dropout): Dropout(p=0.5, inplace=False)\n",
       "  (fc1): Linear(in_features=9, out_features=1, bias=True)\n",
       "  (sigmoid): Sigmoid()\n",
       ")"
      ]
     },
     "execution_count": 49,
     "metadata": {},
     "output_type": "execute_result"
    },
    {
     "data": {
      "text/plain": [
       "BertCNN(\n",
       "  (embed): Embedding(64, 768)\n",
       "  (convs1): ModuleList(\n",
       "    (0): Conv2d(1, 3, kernel_size=(2, 768), stride=(1, 1))\n",
       "    (1): Conv2d(1, 3, kernel_size=(3, 768), stride=(1, 1))\n",
       "    (2): Conv2d(1, 3, kernel_size=(4, 768), stride=(1, 1))\n",
       "  )\n",
       "  (dropout): Dropout(p=0.5, inplace=False)\n",
       "  (fc1): Linear(in_features=9, out_features=1, bias=True)\n",
       "  (sigmoid): Sigmoid()\n",
       ")"
      ]
     },
     "execution_count": 49,
     "metadata": {},
     "output_type": "execute_result"
    },
    {
     "name": "stdout",
     "output_type": "stream",
     "text": [
      "Epoch 4 Train loss: 0.63. Validation loss: 0.57. Elapsed time: 3.20s.\n"
     ]
    },
    {
     "data": {
      "text/plain": [
       "BertCNN(\n",
       "  (embed): Embedding(64, 768)\n",
       "  (convs1): ModuleList(\n",
       "    (0): Conv2d(1, 3, kernel_size=(2, 768), stride=(1, 1))\n",
       "    (1): Conv2d(1, 3, kernel_size=(3, 768), stride=(1, 1))\n",
       "    (2): Conv2d(1, 3, kernel_size=(4, 768), stride=(1, 1))\n",
       "  )\n",
       "  (dropout): Dropout(p=0.5, inplace=False)\n",
       "  (fc1): Linear(in_features=9, out_features=1, bias=True)\n",
       "  (sigmoid): Sigmoid()\n",
       ")"
      ]
     },
     "execution_count": 49,
     "metadata": {},
     "output_type": "execute_result"
    },
    {
     "data": {
      "text/plain": [
       "BertCNN(\n",
       "  (embed): Embedding(64, 768)\n",
       "  (convs1): ModuleList(\n",
       "    (0): Conv2d(1, 3, kernel_size=(2, 768), stride=(1, 1))\n",
       "    (1): Conv2d(1, 3, kernel_size=(3, 768), stride=(1, 1))\n",
       "    (2): Conv2d(1, 3, kernel_size=(4, 768), stride=(1, 1))\n",
       "  )\n",
       "  (dropout): Dropout(p=0.5, inplace=False)\n",
       "  (fc1): Linear(in_features=9, out_features=1, bias=True)\n",
       "  (sigmoid): Sigmoid()\n",
       ")"
      ]
     },
     "execution_count": 49,
     "metadata": {},
     "output_type": "execute_result"
    },
    {
     "name": "stdout",
     "output_type": "stream",
     "text": [
      "Epoch 5 Train loss: 0.60. Validation loss: 0.52. Elapsed time: 3.22s.\n"
     ]
    },
    {
     "data": {
      "text/plain": [
       "BertCNN(\n",
       "  (embed): Embedding(64, 768)\n",
       "  (convs1): ModuleList(\n",
       "    (0): Conv2d(1, 3, kernel_size=(2, 768), stride=(1, 1))\n",
       "    (1): Conv2d(1, 3, kernel_size=(3, 768), stride=(1, 1))\n",
       "    (2): Conv2d(1, 3, kernel_size=(4, 768), stride=(1, 1))\n",
       "  )\n",
       "  (dropout): Dropout(p=0.5, inplace=False)\n",
       "  (fc1): Linear(in_features=9, out_features=1, bias=True)\n",
       "  (sigmoid): Sigmoid()\n",
       ")"
      ]
     },
     "execution_count": 49,
     "metadata": {},
     "output_type": "execute_result"
    },
    {
     "data": {
      "text/plain": [
       "BertCNN(\n",
       "  (embed): Embedding(64, 768)\n",
       "  (convs1): ModuleList(\n",
       "    (0): Conv2d(1, 3, kernel_size=(2, 768), stride=(1, 1))\n",
       "    (1): Conv2d(1, 3, kernel_size=(3, 768), stride=(1, 1))\n",
       "    (2): Conv2d(1, 3, kernel_size=(4, 768), stride=(1, 1))\n",
       "  )\n",
       "  (dropout): Dropout(p=0.5, inplace=False)\n",
       "  (fc1): Linear(in_features=9, out_features=1, bias=True)\n",
       "  (sigmoid): Sigmoid()\n",
       ")"
      ]
     },
     "execution_count": 49,
     "metadata": {},
     "output_type": "execute_result"
    },
    {
     "name": "stdout",
     "output_type": "stream",
     "text": [
      "Epoch 6 Train loss: 0.58. Validation loss: 0.52. Elapsed time: 3.32s.\n"
     ]
    },
    {
     "data": {
      "text/plain": [
       "BertCNN(\n",
       "  (embed): Embedding(64, 768)\n",
       "  (convs1): ModuleList(\n",
       "    (0): Conv2d(1, 3, kernel_size=(2, 768), stride=(1, 1))\n",
       "    (1): Conv2d(1, 3, kernel_size=(3, 768), stride=(1, 1))\n",
       "    (2): Conv2d(1, 3, kernel_size=(4, 768), stride=(1, 1))\n",
       "  )\n",
       "  (dropout): Dropout(p=0.5, inplace=False)\n",
       "  (fc1): Linear(in_features=9, out_features=1, bias=True)\n",
       "  (sigmoid): Sigmoid()\n",
       ")"
      ]
     },
     "execution_count": 49,
     "metadata": {},
     "output_type": "execute_result"
    },
    {
     "data": {
      "text/plain": [
       "BertCNN(\n",
       "  (embed): Embedding(64, 768)\n",
       "  (convs1): ModuleList(\n",
       "    (0): Conv2d(1, 3, kernel_size=(2, 768), stride=(1, 1))\n",
       "    (1): Conv2d(1, 3, kernel_size=(3, 768), stride=(1, 1))\n",
       "    (2): Conv2d(1, 3, kernel_size=(4, 768), stride=(1, 1))\n",
       "  )\n",
       "  (dropout): Dropout(p=0.5, inplace=False)\n",
       "  (fc1): Linear(in_features=9, out_features=1, bias=True)\n",
       "  (sigmoid): Sigmoid()\n",
       ")"
      ]
     },
     "execution_count": 49,
     "metadata": {},
     "output_type": "execute_result"
    },
    {
     "name": "stdout",
     "output_type": "stream",
     "text": [
      "Epoch 7 Train loss: 0.55. Validation loss: 0.47. Elapsed time: 2.90s.\n"
     ]
    },
    {
     "data": {
      "text/plain": [
       "BertCNN(\n",
       "  (embed): Embedding(64, 768)\n",
       "  (convs1): ModuleList(\n",
       "    (0): Conv2d(1, 3, kernel_size=(2, 768), stride=(1, 1))\n",
       "    (1): Conv2d(1, 3, kernel_size=(3, 768), stride=(1, 1))\n",
       "    (2): Conv2d(1, 3, kernel_size=(4, 768), stride=(1, 1))\n",
       "  )\n",
       "  (dropout): Dropout(p=0.5, inplace=False)\n",
       "  (fc1): Linear(in_features=9, out_features=1, bias=True)\n",
       "  (sigmoid): Sigmoid()\n",
       ")"
      ]
     },
     "execution_count": 49,
     "metadata": {},
     "output_type": "execute_result"
    },
    {
     "data": {
      "text/plain": [
       "BertCNN(\n",
       "  (embed): Embedding(64, 768)\n",
       "  (convs1): ModuleList(\n",
       "    (0): Conv2d(1, 3, kernel_size=(2, 768), stride=(1, 1))\n",
       "    (1): Conv2d(1, 3, kernel_size=(3, 768), stride=(1, 1))\n",
       "    (2): Conv2d(1, 3, kernel_size=(4, 768), stride=(1, 1))\n",
       "  )\n",
       "  (dropout): Dropout(p=0.5, inplace=False)\n",
       "  (fc1): Linear(in_features=9, out_features=1, bias=True)\n",
       "  (sigmoid): Sigmoid()\n",
       ")"
      ]
     },
     "execution_count": 49,
     "metadata": {},
     "output_type": "execute_result"
    },
    {
     "name": "stdout",
     "output_type": "stream",
     "text": [
      "Epoch 8 Train loss: 0.52. Validation loss: 0.44. Elapsed time: 2.94s.\n"
     ]
    },
    {
     "data": {
      "text/plain": [
       "BertCNN(\n",
       "  (embed): Embedding(64, 768)\n",
       "  (convs1): ModuleList(\n",
       "    (0): Conv2d(1, 3, kernel_size=(2, 768), stride=(1, 1))\n",
       "    (1): Conv2d(1, 3, kernel_size=(3, 768), stride=(1, 1))\n",
       "    (2): Conv2d(1, 3, kernel_size=(4, 768), stride=(1, 1))\n",
       "  )\n",
       "  (dropout): Dropout(p=0.5, inplace=False)\n",
       "  (fc1): Linear(in_features=9, out_features=1, bias=True)\n",
       "  (sigmoid): Sigmoid()\n",
       ")"
      ]
     },
     "execution_count": 49,
     "metadata": {},
     "output_type": "execute_result"
    },
    {
     "data": {
      "text/plain": [
       "BertCNN(\n",
       "  (embed): Embedding(64, 768)\n",
       "  (convs1): ModuleList(\n",
       "    (0): Conv2d(1, 3, kernel_size=(2, 768), stride=(1, 1))\n",
       "    (1): Conv2d(1, 3, kernel_size=(3, 768), stride=(1, 1))\n",
       "    (2): Conv2d(1, 3, kernel_size=(4, 768), stride=(1, 1))\n",
       "  )\n",
       "  (dropout): Dropout(p=0.5, inplace=False)\n",
       "  (fc1): Linear(in_features=9, out_features=1, bias=True)\n",
       "  (sigmoid): Sigmoid()\n",
       ")"
      ]
     },
     "execution_count": 49,
     "metadata": {},
     "output_type": "execute_result"
    },
    {
     "name": "stdout",
     "output_type": "stream",
     "text": [
      "Epoch 9 Train loss: 0.49. Validation loss: 0.38. Elapsed time: 3.34s.\n"
     ]
    },
    {
     "data": {
      "text/plain": [
       "BertCNN(\n",
       "  (embed): Embedding(64, 768)\n",
       "  (convs1): ModuleList(\n",
       "    (0): Conv2d(1, 3, kernel_size=(2, 768), stride=(1, 1))\n",
       "    (1): Conv2d(1, 3, kernel_size=(3, 768), stride=(1, 1))\n",
       "    (2): Conv2d(1, 3, kernel_size=(4, 768), stride=(1, 1))\n",
       "  )\n",
       "  (dropout): Dropout(p=0.5, inplace=False)\n",
       "  (fc1): Linear(in_features=9, out_features=1, bias=True)\n",
       "  (sigmoid): Sigmoid()\n",
       ")"
      ]
     },
     "execution_count": 49,
     "metadata": {},
     "output_type": "execute_result"
    },
    {
     "data": {
      "text/plain": [
       "BertCNN(\n",
       "  (embed): Embedding(64, 768)\n",
       "  (convs1): ModuleList(\n",
       "    (0): Conv2d(1, 3, kernel_size=(2, 768), stride=(1, 1))\n",
       "    (1): Conv2d(1, 3, kernel_size=(3, 768), stride=(1, 1))\n",
       "    (2): Conv2d(1, 3, kernel_size=(4, 768), stride=(1, 1))\n",
       "  )\n",
       "  (dropout): Dropout(p=0.5, inplace=False)\n",
       "  (fc1): Linear(in_features=9, out_features=1, bias=True)\n",
       "  (sigmoid): Sigmoid()\n",
       ")"
      ]
     },
     "execution_count": 49,
     "metadata": {},
     "output_type": "execute_result"
    },
    {
     "name": "stdout",
     "output_type": "stream",
     "text": [
      "Epoch 10 Train loss: 0.47. Validation loss: 0.34. Elapsed time: 3.54s.\n"
     ]
    }
   ],
   "source": [
    "train_losses, val_losses = [], []\n",
    "\n",
    "for epoch in range(n_epochs):\n",
    "    start_time = time.time()\n",
    "    train_loss = 0\n",
    "\n",
    "    BertCnnModel.train(True)\n",
    "    for x_batch, y_batch, batch in generate_batch_data(x_train, y_train, batch_size):\n",
    "        y_pred = BertCnnModel(x_batch)\n",
    "        optimizer.zero_grad()\n",
    "        loss = loss_fn(y_pred, y_batch)\n",
    "        loss.backward()\n",
    "        optimizer.step()\n",
    "        train_loss += loss.item()\n",
    "\n",
    "    train_loss /= batch\n",
    "    train_losses.append(train_loss)\n",
    "    elapsed = time.time() - start_time\n",
    "\n",
    "    BertCnnModel.eval() # disable dropout for deterministic output\n",
    "    with torch.no_grad(): # deactivate autograd engine to reduce memory usage and speed up computations\n",
    "        val_loss, batch = 0, 1\n",
    "        for x_batch, y_batch, batch in generate_batch_data(x_train, y_train, batch_size):\n",
    "            y_pred = BertCnnModel(x_batch)\n",
    "            loss = loss_fn(y_pred, y_batch)\n",
    "            val_loss += loss.item()\n",
    "        val_loss /= batch\n",
    "        val_losses.append(val_loss)\n",
    "\n",
    "    print(\n",
    "        \"Epoch %d Train loss: %.2f. Validation loss: %.2f. Elapsed time: %.2fs.\"\n",
    "        % (epoch + 1, train_losses[-1], val_losses[-1], elapsed)\n",
    "    )"
   ]
  },
  {
   "cell_type": "code",
   "execution_count": 51,
   "metadata": {},
   "outputs": [
    {
     "data": {
      "text/plain": [
       "[<matplotlib.lines.Line2D at 0x1a43c64690>]"
      ]
     },
     "execution_count": 51,
     "metadata": {},
     "output_type": "execute_result"
    },
    {
     "data": {
      "text/plain": [
       "[<matplotlib.lines.Line2D at 0x10394de50>]"
      ]
     },
     "execution_count": 51,
     "metadata": {},
     "output_type": "execute_result"
    },
    {
     "data": {
      "text/plain": [
       "<matplotlib.legend.Legend at 0x1a43c6e910>"
      ]
     },
     "execution_count": 51,
     "metadata": {},
     "output_type": "execute_result"
    },
    {
     "data": {
      "text/plain": [
       "Text(0.5, 1.0, 'Losses')"
      ]
     },
     "execution_count": 51,
     "metadata": {},
     "output_type": "execute_result"
    },
    {
     "data": {
      "image/png": "[encoded data removed]",
      "text/plain": [
       "<Figure size 432x288 with 1 Axes>"
      ]
     },
     "metadata": {
      "needs_background": "light"
     },
     "output_type": "display_data"
    }
   ],
   "source": [
    "plt.plot(train_losses, label=\"Training loss\")\n",
    "plt.plot(val_losses, label=\"Validation loss\")\n",
    "plt.legend()\n",
    "plt.title(\"Losses\")"
   ]
  },
  {
   "cell_type": "code",
   "execution_count": null,
   "metadata": {},
   "outputs": [],
   "source": []
  }
 ],
 "metadata": {
  "kernelspec": {
   "display_name": "Python 3",
   "language": "python",
   "name": "python3"
  },
  "language_info": {
   "codemirror_mode": {
    "name": "ipython",
    "version": 3
   },
   "file_extension": ".py",
   "mimetype": "text/x-python",
   "name": "python",
   "nbconvert_exporter": "python",
   "pygments_lexer": "ipython3",
   "version": "3.7.6"
  }
 },
 "nbformat": 4,
 "nbformat_minor": 2
}
