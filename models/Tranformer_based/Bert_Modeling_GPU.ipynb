{
 "cells": [
  {
   "cell_type": "code",
   "execution_count": 1,
   "metadata": {},
   "outputs": [],
   "source": [
    "import ijson\n",
    "import itertools\n",
    "import random\n",
    "import numpy as np\n",
    "import sys, os\n",
    "import pandas as pd \n",
    "import torch\n",
    "from torchsummary import summary\n",
    "from torchtext import data\n",
    "import torch.nn as nn\n",
    "import torch.utils.data\n",
    "from torch.utils.data import Dataset, TensorDataset,DataLoader, RandomSampler\n",
    "from torch.utils.tensorboard import SummaryWriter\n",
    "import torchvision\n",
    "import torch.nn.functional as F\n",
    "from sklearn.metrics import roc_auc_score\n",
    "from tqdm import tqdm, tqdm_notebook\n",
    "from IPython.core.interactiveshell import InteractiveShell\n",
    "InteractiveShell.ast_node_interactivity = \"all\"\n",
    "import warnings\n",
    "warnings.filterwarnings(action='once')\n",
    "import pickle\n",
    "from apex import amp\n",
    "import shutil\n",
    "import time\n",
    "import matplotlib.pyplot as plt\n",
    "\n",
    "%load_ext autoreload\n",
    "%autoreload 2\n",
    "%matplotlib inline\n",
    "\n",
    "SEED = 7219\n",
    "random.seed(SEED)\n",
    "np.random.seed(SEED)\n",
    "torch.manual_seed(SEED)\n",
    "torch.backends.cudnn.deterministic = True"
   ]
  },
  {
   "cell_type": "code",
   "execution_count": 2,
   "metadata": {},
   "outputs": [
    {
     "name": "stderr",
     "output_type": "stream",
     "text": [
      "/opt/conda/lib/python3.6/importlib/_bootstrap.py:219: RuntimeWarning: numpy.ufunc size changed, may indicate binary incompatibility. Expected 216, got 192\n",
      "  return f(*args, **kwds)\n",
      "/opt/conda/lib/python3.6/importlib/_bootstrap.py:219: ImportWarning: can't resolve package from __spec__ or __package__, falling back on __name__ and __path__\n",
      "  return f(*args, **kwds)\n",
      "/opt/conda/lib/python3.6/site-packages/tensorflow_core/python/keras/backend.py:5879: ResourceWarning: unclosed file <_io.TextIOWrapper name='/root/.keras/keras.json' mode='r' encoding='ANSI_X3.4-1968'>\n",
      "  _config = json.load(open(_config_path))\n"
     ]
    }
   ],
   "source": [
    "# Import transformers specific packages\n",
    "from transformers import BertTokenizer, BertModel, BertConfig\n",
    "from transformers import  BertForSequenceClassification, BertForTokenClassification\n",
    "from transformers import AdamW,get_linear_schedule_with_warmup"
   ]
  },
  {
   "cell_type": "code",
   "execution_count": 3,
   "metadata": {},
   "outputs": [
    {
     "data": {
      "text/plain": [
       "device(type='cuda')"
      ]
     },
     "execution_count": 3,
     "metadata": {},
     "output_type": "execute_result"
    }
   ],
   "source": [
    "# Set the device and empty cache \n",
    "device = torch.device('cuda' if torch.cuda.is_available() else 'cpu')\n",
    "torch.cuda.empty_cache()\n",
    "device"
   ]
  },
  {
   "cell_type": "markdown",
   "metadata": {},
   "source": [
    "- Export trained model for inference on TX2\n",
    "- Add tensorboard summaries for monitoring training \n",
    "- Add accuracy, F1 score, log loss metric calculations\n",
    "- Add architectural layers (freeze BERT layers, add new layers)\n",
    "- Create pipeline\n"
   ]
  },
  {
   "cell_type": "code",
   "execution_count": 4,
   "metadata": {},
   "outputs": [],
   "source": [
    "# Class for model training and inference\n",
    "class Bert_Model():\n",
    "    def __init__(self,train_df,test_df,bert_model_name,bert_model_path,\n",
    "                tokenizer,\n",
    "                max_seq_length=128,seed=1234):\n",
    "        \n",
    "        if max_seq_length > tokenizer.max_model_input_sizes[bert_model_name]:\n",
    "            print(\"Max sequence length specified > 512!!... resetting to 128\")\n",
    "            print(\"If you don't want this then set max_seq_length to <= 512\")\n",
    "            self._MAX_SEQUENCE_LENGTH = 128\n",
    "        else:\n",
    "            self._MAX_SEQUENCE_LENGTH = max_seq_length\n",
    "        self._SEED = seed\n",
    "        self._WORK_DIR = \"/root/models/Tranformer_based/workingdir/\"\n",
    "        self._bert_model_path=bert_model_path\n",
    "        self._bert_model_name=bert_model_name\n",
    "        self._train_data=train_df\n",
    "        self._test_size=test_df\n",
    "        self._tokenizer = tokenizer\n",
    "        self._training_stats = []\n",
    "\n",
    "    def tokenize(self,text_array):\n",
    "        ''' Returns tokenized IDs and attention mask\n",
    "        The transformers encode_plus method returns the following:\n",
    "        {\n",
    "        input_ids: list[int],\n",
    "        token_type_ids: list[int] if return_token_type_ids is True (default)\n",
    "        attention_mask: list[int] if return_attention_mask is True (default)\n",
    "        overflowing_tokens: list[int] if a ``max_length`` is specified and return_overflowing_tokens is True\n",
    "        num_truncated_tokens: int if a ``max_length`` is specified and return_overflowing_tokens is True\n",
    "        special_tokens_mask: list[int] if ``add_special_tokens`` if set to ``True`` and return_special_tokens_mask is True\n",
    "        }'''\n",
    "        all_tokens=[]\n",
    "        all_attention_mask=[]\n",
    "        for i,text in enumerate(tqdm_notebook(text_array)):\n",
    "            encoded = tokenizer.encode_plus(\n",
    "                           text, \n",
    "                           add_special_tokens=True,\n",
    "                           max_length=self._MAX_SEQUENCE_LENGTH,\n",
    "                           pad_to_max_length=True)\n",
    "            tokens = torch.tensor(encoded['input_ids'])\n",
    "            attention_mask = torch.tensor(encoded['attention_mask'])\n",
    "            all_tokens.append(tokens)\n",
    "            all_attention_mask.append(attention_mask)\n",
    "        return all_tokens,all_attention_mask\n",
    "     \n",
    "    def initialize_model_for_training(self,dataset_len,EPOCHS=1,model_seed=21000,lr=2e-5,batch_size=32,\n",
    "                                      accumulation_steps=2):\n",
    "        # Setup model parameters\n",
    "        np.random.seed(model_seed)\n",
    "        torch.manual_seed(model_seed)\n",
    "        torch.cuda.manual_seed(model_seed)\n",
    "        torch.backends.cudnn.deterministic = True\n",
    "\n",
    "        # Empty cache\n",
    "        torch.cuda.empty_cache()\n",
    "        model = BertForSequenceClassification.from_pretrained(self._bert_model_path,\n",
    "                                                              cache_dir=None,\n",
    "                                                              num_labels=2,\n",
    "                                                              output_attentions = False, \n",
    "                                                              output_hidden_states = False)\n",
    "        model.zero_grad()\n",
    "        model = model.to(device)\n",
    "        param_optimizer = list(model.named_parameters())\n",
    "        no_decay = ['bias', 'LayerNorm.bias', 'LayerNorm.weight']\n",
    "        optimizer_grouped_parameters = [\n",
    "            {'params': [p for n, p in param_optimizer if not any(nd in n for nd in no_decay)], 'weight_decay': 0.01},\n",
    "            {'params': [p for n, p in param_optimizer if any(nd in n for nd in no_decay)], 'weight_decay': 0.0}\n",
    "            ]\n",
    "        num_train_optimization_steps = int(EPOCHS*dataset_len/batch_size/accumulation_steps)\n",
    "        optimizer = AdamW(optimizer_grouped_parameters, lr=lr,eps=1e-8,correct_bias=False)  # To reproduce BertAdam specific behavior set correct_bias=False\n",
    "        scheduler = get_linear_schedule_with_warmup(optimizer,num_warmup_steps=0,num_training_steps=num_train_optimization_steps)  # PyTorch scheduler\n",
    "        model, optimizer = amp.initialize(model,optimizer,opt_level=\"O1\",verbosity=0)\n",
    "        model=model.train()\n",
    "        return model,optimizer,scheduler,EPOCHS\n",
    "    \n",
    "    def run_training(self,model,train_dataLoader,valid_dataLoader,optimizer,scheduler,EPOCHS=1,batch_size=32,accumulation_steps=2):\n",
    "        # Data Structure for training statistics\n",
    "        training_stats=[]\n",
    "        validation_stats=[]\n",
    "        \n",
    "        tr_loss = 0.\n",
    "        tr_accuracy = 0.\n",
    "        optimizer.zero_grad()   \n",
    "        \n",
    "        tq = tqdm_notebook(range(EPOCHS),total=EPOCHS,leave=False)\n",
    "        global_step = 0\n",
    "        for epoch in tq:\n",
    "            print(\"--Training--\")\n",
    "            tk0 = tqdm_notebook(enumerate(train_dataLoader),total=len(train_dataLoader),leave=True)\n",
    "            for step,(x_batch,attn_mask,y_batch) in tk0:\n",
    "                outputs = model(x_batch.to(device), \n",
    "                                token_type_ids=None, \n",
    "                                attention_mask=attn_mask.to(device), \n",
    "                                labels=y_batch.to(device))\n",
    "                y_pred = outputs[1]\n",
    "                loss = outputs[0] / accumulation_steps\n",
    "                with amp.scale_loss(loss,optimizer) as scaled_loss:\n",
    "                    scaled_loss.backward()\n",
    "#                     loss.backward()\n",
    "                tk0.set_postfix(step=global_step+1,loss=loss.item()) # display running loss\n",
    "\n",
    "                tr_loss += loss.item()\n",
    "                tr_accuracy += torch.mean(((torch.sigmoid(y_pred[:,0])>0.5) == (y_batch>0.5).to(device)).to(torch.float) ).item()/len(train_dataLoader)\n",
    "                if (step+1) % accumulation_steps == 0:          # Wait for several backward steps\n",
    "                    torch.nn.utils.clip_grad_norm_(model.parameters(), 1.0)  # clip the norm to 1.0 to prevent exploding gradients\n",
    "\n",
    "                    optimizer.step()                            # Now we can do an optimizer step\n",
    "                    scheduler.step()\n",
    "                    model.zero_grad()\n",
    "                    global_step+=1\n",
    "#                     optimizer.zero_grad()\n",
    "#                     print(\"Step Number:%d||Train Loss:%0.5f||Train Accuracy:%0.5f\" %(step+1,avg_loss,avg_accuracy))\n",
    "\n",
    "                    training_stats.append(\n",
    "                            {\n",
    "                                'step': global_step+1,\n",
    "                                'train_loss': tr_loss/(global_step+1),\n",
    "                                'train_acc': tr_accuracy/(global_step+1),\n",
    "                            })\n",
    "                # Run evaluation\n",
    "                if (global_step+1) % (4*accumulation_steps)==0:\n",
    "                    print(\"--I-- Running Validation\")\n",
    "                    eval_loss,eval_accuracy=self.run_eval(model,valid_dataLoader,global_step+1)\n",
    "#                     print(\"Step Number:%d||Valid Loss:%0.5f||Valid Accuracy:%0.5f\" %(step+1,eval_loss,eval_accuracy))\n",
    "                    validation_stats.append(\n",
    "                        {\n",
    "                            'step': global_step + 1,\n",
    "                            'valid_loss': eval_loss,\n",
    "                            'Training Accuracy': eval_accuracy,\n",
    "                        })\n",
    "            tq.set_postfix(train_loss=tr_loss/(global_step+1),train_accuracy=tr_accuracy/(global_step+1))\n",
    "        return model,training_stats,validation_stats\n",
    "    \n",
    "    def run_eval(self,model,valid_dataLoader,global_step):\n",
    "        avg_loss = 0.\n",
    "        eval_accuracy = 0.\n",
    "        eval_loss = 0.\n",
    "        nb_eval_steps = 0\n",
    "        lossf=None\n",
    "        tk0 = tqdm_notebook(enumerate(valid_dataLoader),total=len(valid_dataLoader),leave=True)\n",
    "        for step,(x_batch, attn_mask,y_batch) in tk0:\n",
    "            model.eval()\n",
    "            with torch.no_grad():\n",
    "                outputs = model(x_batch.to(device), \n",
    "                                token_type_ids=None, \n",
    "                                attention_mask=attn_mask.to(device), \n",
    "                                labels=y_batch.to(device))\n",
    "            loss, y_pred = outputs\n",
    "            y_pred = y_pred.detach().cpu().numpy()\n",
    "            label_ids = y_batch.to('cpu').numpy()\n",
    "            tmp_eval_accuracy = self.flat_accuracy(y_pred, label_ids)\n",
    "            if lossf:\n",
    "                lossf = 0.98*lossf+0.02*loss.item()\n",
    "            else:\n",
    "                lossf = loss.item()\n",
    "            # Accumulate the total accuracy.\n",
    "            eval_loss += lossf/len(valid_dataLoader)\n",
    "            eval_accuracy += tmp_eval_accuracy/len(valid_dataLoader)\n",
    "            nb_eval_steps += 1\n",
    "        avg_loss = eval_loss/nb_eval_steps\n",
    "        avg_accuracy = eval_accuracy/nb_eval_steps\n",
    "        tk0.set_postfix(step=global_step,avg_loss=avg_loss,avg_accuracy=avg_accuracy)\n",
    "        return avg_loss,avg_accuracy\n",
    "\n",
    "     # Function to calculate the accuracy of predictions vs labels\n",
    "    def flat_accuracy(self,preds, labels):\n",
    "        pred_flat = np.argmax(preds, axis=1).flatten()\n",
    "        labels_flat = labels.flatten()\n",
    "        return np.sum(pred_flat == labels_flat) / len(labels_flat)\n",
    "    \n",
    "    def summaryWriter(self,model,):\n",
    "        # Writer will output to ./runs/ directory by default\n",
    "        writer = SummaryWriter()\n",
    "        writer.add_graph(model)\n",
    "        writer.add_scalar('Loss/train', np.random.random(), n_iter)\n",
    "        writer.close()"
   ]
  },
  {
   "cell_type": "code",
   "execution_count": 5,
   "metadata": {},
   "outputs": [],
   "source": [
    "class CreateDataset(Dataset):\n",
    "    def __init__(self,data,atten_mask,labels):\n",
    "        self._dataset = [[data[i],atten_mask[i],labels.values[i]] for i in range(0,len(data))]\n",
    "    \n",
    "    def __len__(self):\n",
    "        return len(self._dataset)\n",
    "\n",
    "    def __getitem__(self,idx):\n",
    "        return self._dataset[idx]\n"
   ]
  },
  {
   "cell_type": "code",
   "execution_count": 25,
   "metadata": {},
   "outputs": [
    {
     "name": "stdout",
     "output_type": "stream",
     "text": [
      "205665 51417 64666\n"
     ]
    }
   ],
   "source": [
    "# Define constants and paths\n",
    "\n",
    "seed = 7843\n",
    "bert_model_name = \"bert-base-uncased\"\n",
    "# Convert TF checkpoint to pytorch chckpoint and then use as input to class object\n",
    "bert_model_path = \"/root/data/BERT/uncased_L-12_H-768_A-12-pytorch/\"\n",
    "# data_path = \"/Users/suhasgupta/w251/mids-w251-final-project/data/nlp.cs.princeton.edu/SARC/2.0/pol/\"\n",
    "data_path = \"/root/data/nlp.cs.princeton.edu/SARC/2.0/files/\"\n",
    "work_dir = \"/root/models/Tranformer_based/workingdir/\"\n",
    "\n",
    "tokenizer = BertTokenizer.from_pretrained(bert_model_name, cache_dir=None,do_lower_case=True)\n",
    "max_seq_len = 128\n",
    "\n",
    "# Load and check the dataset from files on disk \n",
    "train_file_name = data_path+'balanced_train.csv'\n",
    "test_file_name  = data_path+'balanced_test.csv'\n",
    "\n",
    "# train_file_name = data_path+'small_train.csv'\n",
    "# test_file_name  = data_path+'small_test.csv'\n",
    "\n",
    "all_train_df = pd.read_csv(train_file_name)\n",
    "test_df = pd.read_csv(test_file_name)\n",
    "\n",
    "# Create a train, valid split\n",
    "from sklearn.model_selection import train_test_split\n",
    "train_df, valid_df = train_test_split(all_train_df, test_size=0.2,random_state=seed)\n",
    "\n",
    "train_data   = train_df.text.fillna(\"DUMMY_VALUE\")\n",
    "train_labels = train_df.label\n",
    "valid_data  = valid_df.text.fillna(\"DUMMY_VALUE\")\n",
    "valid_labels = valid_df.label\n",
    "test_data  = test_df.text.fillna(\"DUMMY_VALUE\")\n",
    "test_labels = test_df.label\n",
    "\n",
    "train_size,valid_size,test_size = len(train_df),len(valid_df),len(test_df)\n",
    "print(train_size,valid_size,test_size)"
   ]
  },
  {
   "cell_type": "code",
   "execution_count": 26,
   "metadata": {},
   "outputs": [],
   "source": [
    "# Create a model object \n",
    "bert_model1=Bert_Model(train_df=train_df,\n",
    "                      test_df=test_df,\n",
    "                      bert_model_name=bert_model_name,\n",
    "                      bert_model_path=bert_model_path,\n",
    "                      tokenizer=tokenizer,\n",
    "                      max_seq_length=max_seq_len)"
   ]
  },
  {
   "cell_type": "code",
   "execution_count": 8,
   "metadata": {},
   "outputs": [
    {
     "name": "stdout",
     "output_type": "stream",
     "text": [
      "--Tokenizing--\n"
     ]
    },
    {
     "data": {
      "application/vnd.jupyter.widget-view+json": {
       "model_id": "904e25ff7c87422189b83cc4c3114dad",
       "version_major": 2,
       "version_minor": 0
      },
      "text/plain": [
       "HBox(children=(IntProgress(value=0, max=205665), HTML(value='')))"
      ]
     },
     "metadata": {},
     "output_type": "display_data"
    },
    {
     "name": "stdout",
     "output_type": "stream",
     "text": [
      "\n"
     ]
    },
    {
     "data": {
      "application/vnd.jupyter.widget-view+json": {
       "model_id": "3cba8d2638954ea3a984b07bec3bfaf9",
       "version_major": 2,
       "version_minor": 0
      },
      "text/plain": [
       "HBox(children=(IntProgress(value=0, max=51417), HTML(value='')))"
      ]
     },
     "metadata": {},
     "output_type": "display_data"
    },
    {
     "name": "stdout",
     "output_type": "stream",
     "text": [
      "\n"
     ]
    },
    {
     "data": {
      "application/vnd.jupyter.widget-view+json": {
       "model_id": "c141d6def73c440eb54c0b3b15ee7603",
       "version_major": 2,
       "version_minor": 0
      },
      "text/plain": [
       "HBox(children=(IntProgress(value=0, max=64666), HTML(value='')))"
      ]
     },
     "metadata": {},
     "output_type": "display_data"
    },
    {
     "name": "stdout",
     "output_type": "stream",
     "text": [
      "\n"
     ]
    }
   ],
   "source": [
    "%timeit\n",
    "print(\"--Tokenizing--\")\n",
    "train_data_tokenized,train_attention_mask = bert_model1.tokenize(train_data)\n",
    "valid_data_tokenized,valid_attention_mask = bert_model1.tokenize(valid_data)\n",
    "test_data_tokenized,test_attention_mask = bert_model1.tokenize(test_data)\n"
   ]
  },
  {
   "cell_type": "code",
   "execution_count": 9,
   "metadata": {},
   "outputs": [],
   "source": [
    "train_dataset = CreateDataset(train_data_tokenized,train_attention_mask,train_labels)\n",
    "train_sampler = RandomSampler(train_dataset)\n",
    "valid_dataset = CreateDataset(valid_data_tokenized,valid_attention_mask,valid_labels)\n",
    "valid_sampler = RandomSampler(valid_dataset)"
   ]
  },
  {
   "cell_type": "code",
   "execution_count": 10,
   "metadata": {
    "scrolled": false
   },
   "outputs": [],
   "source": [
    "# train_dataset[0]\n",
    "# valid_dataset[10]"
   ]
  },
  {
   "cell_type": "code",
   "execution_count": 11,
   "metadata": {},
   "outputs": [
    {
     "name": "stdout",
     "output_type": "stream",
     "text": [
      "Generated number of training batches:4284\n",
      "Generated number of validation batches:1071\n",
      "Number of training steps: 8568\n",
      "Number of validation steps: 428.4\n"
     ]
    }
   ],
   "source": [
    "# Parameters for cloud GPU\n",
    "train_params = {'batch_size': 48,\n",
    "          'shuffle': False,\n",
    "          'num_workers': 16}\n",
    "valid_params = {'batch_size': 48,\n",
    "          'shuffle': False,\n",
    "          'num_workers': 16}\n",
    "\n",
    "# # Parameters for local GPU\n",
    "# train_params = {'batch_size': 32,\n",
    "#           'shuffle': False,\n",
    "#           'num_workers': 16}\n",
    "# valid_params = {'batch_size': 8,\n",
    "#           'shuffle': False,\n",
    "#           'num_workers': 16}\n",
    "\n",
    "max_epochs = 2\n",
    "accumulation_steps=20\n",
    "\n",
    "# print(\"Expected number of batches:\", int(len(train_data_tokenized)/params['batch_size']))\n",
    "train_dataLoader = torch.utils.data.DataLoader(train_dataset,sampler=train_sampler,batch_size=train_params['batch_size'],\n",
    "                                         shuffle=train_params['shuffle'],\n",
    "                                         num_workers=train_params['num_workers'],\n",
    "                                         pin_memory=False,drop_last=True)\n",
    "valid_dataLoader = torch.utils.data.DataLoader(valid_dataset,sampler=valid_sampler,batch_size=valid_params['batch_size'],\n",
    "                                         shuffle=valid_params['shuffle'],\n",
    "                                         num_workers=valid_params['num_workers'],\n",
    "                                         pin_memory=False,drop_last=True)\n",
    "print(\"Generated number of training batches:%d\" %len(train_dataLoader))\n",
    "print(\"Generated number of validation batches:%d\" %len(valid_dataLoader))\n",
    "print(\"Number of training steps:\",len(train_dataLoader)*max_epochs)\n",
    "print(\"Number of validation steps:\",len(train_dataLoader)*max_epochs/accumulation_steps)\n",
    "\n"
   ]
  },
  {
   "cell_type": "markdown",
   "metadata": {},
   "source": [
    "#### Model Initialization and Training "
   ]
  },
  {
   "cell_type": "code",
   "execution_count": 27,
   "metadata": {
    "scrolled": false
   },
   "outputs": [],
   "source": [
    "# Initialize the model\n",
    "model,optimizer,scheduler,EPOCHS = bert_model1.initialize_model_for_training(len(train_dataLoader),\n",
    "                                                                             EPOCHS=max_epochs,accumulation_steps=accumulation_steps)\n"
   ]
  },
  {
   "cell_type": "markdown",
   "metadata": {},
   "source": [
    "- Add mpi run capability for distributed processing\n"
   ]
  },
  {
   "cell_type": "code",
   "execution_count": 13,
   "metadata": {
    "scrolled": true
   },
   "outputs": [
    {
     "data": {
      "application/vnd.jupyter.widget-view+json": {
       "model_id": "990d6ab92ba649caac63b656a3bab0e8",
       "version_major": 2,
       "version_minor": 0
      },
      "text/plain": [
       "HBox(children=(IntProgress(value=0, max=5), HTML(value='')))"
      ]
     },
     "metadata": {},
     "output_type": "display_data"
    },
    {
     "data": {
      "application/vnd.jupyter.widget-view+json": {
       "model_id": "",
       "version_major": 2,
       "version_minor": 0
      },
      "text/plain": [
       "HBox(children=(IntProgress(value=0, max=1606), HTML(value='')))"
      ]
     },
     "metadata": {},
     "output_type": "display_data"
    },
    {
     "data": {
      "application/vnd.jupyter.widget-view+json": {
       "model_id": "5ab91b8441f940f7a675d6803a6c4194",
       "version_major": 2,
       "version_minor": 0
      },
      "text/plain": [
       "HBox(children=(IntProgress(value=0, max=1), HTML(value='')))"
      ]
     },
     "metadata": {},
     "output_type": "display_data"
    },
    {
     "data": {
      "application/vnd.jupyter.widget-view+json": {
       "model_id": "",
       "version_major": 2,
       "version_minor": 0
      },
      "text/plain": [
       "HBox(children=(IntProgress(value=0, max=401), HTML(value='')))"
      ]
     },
     "metadata": {},
     "output_type": "display_data"
    },
    {
     "name": "stdout",
     "output_type": "stream",
     "text": [
      "Epoch Number:1||Train Loss:0.70826||Train Accuracy:0.49767\n",
      "Epoch Number:1||Valid Loss:0.00177||Valid Accuracy:0.00120\n"
     ]
    },
    {
     "data": {
      "application/vnd.jupyter.widget-view+json": {
       "model_id": "",
       "version_major": 2,
       "version_minor": 0
      },
      "text/plain": [
       "HBox(children=(IntProgress(value=0, max=1606), HTML(value='')))"
      ]
     },
     "metadata": {},
     "output_type": "display_data"
    },
    {
     "data": {
      "application/vnd.jupyter.widget-view+json": {
       "model_id": "1d6dd06cb4644f30a6fb0869b49cce40",
       "version_major": 2,
       "version_minor": 0
      },
      "text/plain": [
       "HBox(children=(IntProgress(value=0, max=2), HTML(value='')))"
      ]
     },
     "metadata": {},
     "output_type": "display_data"
    },
    {
     "name": "stdout",
     "output_type": "stream",
     "text": [
      "--Training--\n"
     ]
    },
    {
     "data": {
      "application/vnd.jupyter.widget-view+json": {
       "model_id": "",
       "version_major": 2,
       "version_minor": 0
      },
      "text/plain": [
       "HBox(children=(IntProgress(value=0, max=401), HTML(value='')))"
      ]
     },
     "metadata": {},
     "output_type": "display_data"
    },
    {
     "name": "stdout",
     "output_type": "stream",
     "text": [
      "Epoch Number:2||Train Loss:0.70692||Train Accuracy:0.49736\n",
      "Epoch Number:2||Valid Loss:0.00177||Valid Accuracy:0.00120\n"
     ]
    },
    {
     "data": {
      "application/vnd.jupyter.widget-view+json": {
       "model_id": "",
       "version_major": 2,
       "version_minor": 0
      },
      "text/plain": [
       "HBox(children=(IntProgress(value=0, max=4284), HTML(value='')))"
      ]
     },
     "metadata": {},
     "output_type": "display_data"
    },
    {
     "name": "stdout",
     "output_type": "stream",
     "text": [
      "--I-- Running Validation\n"
     ]
    },
    {
     "data": {
      "application/vnd.jupyter.widget-view+json": {
       "model_id": "4ca4dbd6801544b7b1da84f47dc19c00",
       "version_major": 2,
       "version_minor": 0
      },
      "text/plain": [
       "HBox(children=(IntProgress(value=0, max=1071), HTML(value='')))"
      ]
     },
     "metadata": {},
     "output_type": "display_data"
    },
    {
     "name": "stdout",
     "output_type": "stream",
     "text": [
      "--I-- Running Validation\n"
     ]
    },
    {
     "data": {
      "application/vnd.jupyter.widget-view+json": {
       "model_id": "4e7a0ee720e3444c899e6019a72022f6",
       "version_major": 2,
       "version_minor": 0
      },
      "text/plain": [
       "HBox(children=(IntProgress(value=0, max=1071), HTML(value='')))"
      ]
     },
     "metadata": {},
     "output_type": "display_data"
    },
    {
     "name": "stdout",
     "output_type": "stream",
     "text": [
      "--I-- Running Validation\n"
     ]
    },
    {
     "data": {
      "application/vnd.jupyter.widget-view+json": {
       "model_id": "931e0d002dac4ce38226c4736f215990",
       "version_major": 2,
       "version_minor": 0
      },
      "text/plain": [
       "HBox(children=(IntProgress(value=0, max=1071), HTML(value='')))"
      ]
     },
     "metadata": {},
     "output_type": "display_data"
    },
    {
     "name": "stdout",
     "output_type": "stream",
     "text": [
      "--I-- Running Validation\n"
     ]
    },
    {
     "data": {
      "application/vnd.jupyter.widget-view+json": {
       "model_id": "5db5ace1720d45a49776bec00b2cd772",
       "version_major": 2,
       "version_minor": 0
      },
      "text/plain": [
       "HBox(children=(IntProgress(value=0, max=1071), HTML(value='')))"
      ]
     },
     "metadata": {},
     "output_type": "display_data"
    },
    {
     "name": "stdout",
     "output_type": "stream",
     "text": [
      "--I-- Running Validation\n"
     ]
    },
    {
     "data": {
      "application/vnd.jupyter.widget-view+json": {
       "model_id": "7ac17e19ad614194be911a5ca88f7025",
       "version_major": 2,
       "version_minor": 0
      },
      "text/plain": [
       "HBox(children=(IntProgress(value=0, max=1071), HTML(value='')))"
      ]
     },
     "metadata": {},
     "output_type": "display_data"
    },
    {
     "name": "stdout",
     "output_type": "stream",
     "text": [
      "--I-- Running Validation\n"
     ]
    },
    {
     "data": {
      "application/vnd.jupyter.widget-view+json": {
       "model_id": "4bbdda69bba349e5b718e4574cc21666",
       "version_major": 2,
       "version_minor": 0
      },
      "text/plain": [
       "HBox(children=(IntProgress(value=0, max=1071), HTML(value='')))"
      ]
     },
     "metadata": {},
     "output_type": "display_data"
    },
    {
     "name": "stderr",
     "output_type": "stream",
     "text": [
      "IOPub message rate exceeded.\n",
      "The notebook server will temporarily stop sending output\n",
      "to the client in order to avoid crashing it.\n",
      "To change this limit, set the config variable\n",
      "`--NotebookApp.iopub_msg_rate_limit`.\n",
      "\n",
      "Current values:\n",
      "NotebookApp.iopub_msg_rate_limit=1000.0 (msgs/sec)\n",
      "NotebookApp.rate_limit_window=3.0 (secs)\n",
      "\n"
     ]
    },
    {
     "name": "stdout",
     "output_type": "stream",
     "text": [
      "--I-- Running Validation\n"
     ]
    },
    {
     "data": {
      "application/vnd.jupyter.widget-view+json": {
       "model_id": "4c9d39c5e4bd49559ac0a2446d11a531",
       "version_major": 2,
       "version_minor": 0
      },
      "text/plain": [
       "HBox(children=(IntProgress(value=0, max=1071), HTML(value='')))"
      ]
     },
     "metadata": {},
     "output_type": "display_data"
    },
    {
     "name": "stdout",
     "output_type": "stream",
     "text": [
      "--I-- Running Validation\n"
     ]
    },
    {
     "data": {
      "application/vnd.jupyter.widget-view+json": {
       "model_id": "5caff059bd62419b98d2ac0d7c4eb55f",
       "version_major": 2,
       "version_minor": 0
      },
      "text/plain": [
       "HBox(children=(IntProgress(value=0, max=1071), HTML(value='')))"
      ]
     },
     "metadata": {},
     "output_type": "display_data"
    },
    {
     "name": "stdout",
     "output_type": "stream",
     "text": [
      "--I-- Running Validation\n"
     ]
    },
    {
     "data": {
      "application/vnd.jupyter.widget-view+json": {
       "model_id": "b8eddf2ef1694d90aca3cd5dae1cbaa5",
       "version_major": 2,
       "version_minor": 0
      },
      "text/plain": [
       "HBox(children=(IntProgress(value=0, max=1071), HTML(value='')))"
      ]
     },
     "metadata": {},
     "output_type": "display_data"
    },
    {
     "name": "stdout",
     "output_type": "stream",
     "text": [
      "--I-- Running Validation\n"
     ]
    },
    {
     "data": {
      "application/vnd.jupyter.widget-view+json": {
       "model_id": "5ba06168a7924db1985102c26db1139e",
       "version_major": 2,
       "version_minor": 0
      },
      "text/plain": [
       "HBox(children=(IntProgress(value=0, max=1071), HTML(value='')))"
      ]
     },
     "metadata": {},
     "output_type": "display_data"
    },
    {
     "name": "stdout",
     "output_type": "stream",
     "text": [
      "--I-- Running Validation\n"
     ]
    },
    {
     "data": {
      "application/vnd.jupyter.widget-view+json": {
       "model_id": "e13ef31aa6bd44ad9cc048862abd6e34",
       "version_major": 2,
       "version_minor": 0
      },
      "text/plain": [
       "HBox(children=(IntProgress(value=0, max=1071), HTML(value='')))"
      ]
     },
     "metadata": {},
     "output_type": "display_data"
    },
    {
     "name": "stdout",
     "output_type": "stream",
     "text": [
      "--I-- Running Validation\n"
     ]
    },
    {
     "data": {
      "application/vnd.jupyter.widget-view+json": {
       "model_id": "888f86325ab34d50a8a38452329ba0d1",
       "version_major": 2,
       "version_minor": 0
      },
      "text/plain": [
       "HBox(children=(IntProgress(value=0, max=1071), HTML(value='')))"
      ]
     },
     "metadata": {},
     "output_type": "display_data"
    },
    {
     "name": "stdout",
     "output_type": "stream",
     "text": [
      "--I-- Running Validation\n"
     ]
    },
    {
     "data": {
      "application/vnd.jupyter.widget-view+json": {
       "model_id": "bc7efa08e74c4e60bfb281013e95efe4",
       "version_major": 2,
       "version_minor": 0
      },
      "text/plain": [
       "HBox(children=(IntProgress(value=0, max=1071), HTML(value='')))"
      ]
     },
     "metadata": {},
     "output_type": "display_data"
    },
    {
     "name": "stdout",
     "output_type": "stream",
     "text": [
      "--I-- Running Validation\n"
     ]
    },
    {
     "data": {
      "application/vnd.jupyter.widget-view+json": {
       "model_id": "0d9b47f799604c5aa50043703dcff915",
       "version_major": 2,
       "version_minor": 0
      },
      "text/plain": [
       "HBox(children=(IntProgress(value=0, max=1071), HTML(value='')))"
      ]
     },
     "metadata": {},
     "output_type": "display_data"
    },
    {
     "name": "stdout",
     "output_type": "stream",
     "text": [
      "--I-- Running Validation\n"
     ]
    },
    {
     "data": {
      "application/vnd.jupyter.widget-view+json": {
       "model_id": "8c7d714448944ee7bf2ba8641a67263f",
       "version_major": 2,
       "version_minor": 0
      },
      "text/plain": [
       "HBox(children=(IntProgress(value=0, max=1071), HTML(value='')))"
      ]
     },
     "metadata": {},
     "output_type": "display_data"
    },
    {
     "name": "stderr",
     "output_type": "stream",
     "text": [
      "IOPub message rate exceeded.\n",
      "The notebook server will temporarily stop sending output\n",
      "to the client in order to avoid crashing it.\n",
      "To change this limit, set the config variable\n",
      "`--NotebookApp.iopub_msg_rate_limit`.\n",
      "\n",
      "Current values:\n",
      "NotebookApp.iopub_msg_rate_limit=1000.0 (msgs/sec)\n",
      "NotebookApp.rate_limit_window=3.0 (secs)\n",
      "\n",
      "IOPub message rate exceeded.\n",
      "The notebook server will temporarily stop sending output\n",
      "to the client in order to avoid crashing it.\n",
      "To change this limit, set the config variable\n",
      "`--NotebookApp.iopub_msg_rate_limit`.\n",
      "\n",
      "Current values:\n",
      "NotebookApp.iopub_msg_rate_limit=1000.0 (msgs/sec)\n",
      "NotebookApp.rate_limit_window=3.0 (secs)\n",
      "\n"
     ]
    },
    {
     "name": "stdout",
     "output_type": "stream",
     "text": [
      "--I-- Running Validation\n"
     ]
    },
    {
     "data": {
      "application/vnd.jupyter.widget-view+json": {
       "model_id": "0db9f44c49134a93974dceaf7233fb76",
       "version_major": 2,
       "version_minor": 0
      },
      "text/plain": [
       "HBox(children=(IntProgress(value=0, max=1071), HTML(value='')))"
      ]
     },
     "metadata": {},
     "output_type": "display_data"
    },
    {
     "name": "stdout",
     "output_type": "stream",
     "text": [
      "--I-- Running Validation\n"
     ]
    },
    {
     "data": {
      "application/vnd.jupyter.widget-view+json": {
       "model_id": "fada7034c92a42259199933a61ce7dcd",
       "version_major": 2,
       "version_minor": 0
      },
      "text/plain": [
       "HBox(children=(IntProgress(value=0, max=1071), HTML(value='')))"
      ]
     },
     "metadata": {},
     "output_type": "display_data"
    },
    {
     "name": "stdout",
     "output_type": "stream",
     "text": [
      "--I-- Running Validation\n"
     ]
    },
    {
     "data": {
      "application/vnd.jupyter.widget-view+json": {
       "model_id": "93b805b8dc404ac983ee787c5a52aea0",
       "version_major": 2,
       "version_minor": 0
      },
      "text/plain": [
       "HBox(children=(IntProgress(value=0, max=1071), HTML(value='')))"
      ]
     },
     "metadata": {},
     "output_type": "display_data"
    },
    {
     "name": "stdout",
     "output_type": "stream",
     "text": [
      "--I-- Running Validation\n"
     ]
    },
    {
     "data": {
      "application/vnd.jupyter.widget-view+json": {
       "model_id": "ec5966786dac4eaf9d90d182f84b8c16",
       "version_major": 2,
       "version_minor": 0
      },
      "text/plain": [
       "HBox(children=(IntProgress(value=0, max=1071), HTML(value='')))"
      ]
     },
     "metadata": {},
     "output_type": "display_data"
    },
    {
     "name": "stderr",
     "output_type": "stream",
     "text": [
      "IOPub message rate exceeded.\n",
      "The notebook server will temporarily stop sending output\n",
      "to the client in order to avoid crashing it.\n",
      "To change this limit, set the config variable\n",
      "`--NotebookApp.iopub_msg_rate_limit`.\n",
      "\n",
      "Current values:\n",
      "NotebookApp.iopub_msg_rate_limit=1000.0 (msgs/sec)\n",
      "NotebookApp.rate_limit_window=3.0 (secs)\n",
      "\n"
     ]
    },
    {
     "name": "stdout",
     "output_type": "stream",
     "text": [
      "--I-- Running Validation\n"
     ]
    },
    {
     "data": {
      "application/vnd.jupyter.widget-view+json": {
       "model_id": "835c9a5eeb8c4d8988a343f023969bfc",
       "version_major": 2,
       "version_minor": 0
      },
      "text/plain": [
       "HBox(children=(IntProgress(value=0, max=1071), HTML(value='')))"
      ]
     },
     "metadata": {},
     "output_type": "display_data"
    },
    {
     "name": "stdout",
     "output_type": "stream",
     "text": [
      "--I-- Running Validation\n"
     ]
    },
    {
     "data": {
      "application/vnd.jupyter.widget-view+json": {
       "model_id": "0f8b04b1781c4e7695ecff5e0ea319a7",
       "version_major": 2,
       "version_minor": 0
      },
      "text/plain": [
       "HBox(children=(IntProgress(value=0, max=1071), HTML(value='')))"
      ]
     },
     "metadata": {},
     "output_type": "display_data"
    },
    {
     "name": "stderr",
     "output_type": "stream",
     "text": [
      "IOPub message rate exceeded.\n",
      "The notebook server will temporarily stop sending output\n",
      "to the client in order to avoid crashing it.\n",
      "To change this limit, set the config variable\n",
      "`--NotebookApp.iopub_msg_rate_limit`.\n",
      "\n",
      "Current values:\n",
      "NotebookApp.iopub_msg_rate_limit=1000.0 (msgs/sec)\n",
      "NotebookApp.rate_limit_window=3.0 (secs)\n",
      "\n"
     ]
    },
    {
     "name": "stdout",
     "output_type": "stream",
     "text": [
      "--I-- Running Validation\n"
     ]
    },
    {
     "data": {
      "application/vnd.jupyter.widget-view+json": {
       "model_id": "55cd3585712b4aa3a536a92ad974e1f9",
       "version_major": 2,
       "version_minor": 0
      },
      "text/plain": [
       "HBox(children=(IntProgress(value=0, max=1071), HTML(value='')))"
      ]
     },
     "metadata": {},
     "output_type": "display_data"
    },
    {
     "name": "stderr",
     "output_type": "stream",
     "text": [
      "IOPub message rate exceeded.\n",
      "The notebook server will temporarily stop sending output\n",
      "to the client in order to avoid crashing it.\n",
      "To change this limit, set the config variable\n",
      "`--NotebookApp.iopub_msg_rate_limit`.\n",
      "\n",
      "Current values:\n",
      "NotebookApp.iopub_msg_rate_limit=1000.0 (msgs/sec)\n",
      "NotebookApp.rate_limit_window=3.0 (secs)\n",
      "\n"
     ]
    },
    {
     "name": "stdout",
     "output_type": "stream",
     "text": [
      "--I-- Running Validation\n"
     ]
    },
    {
     "data": {
      "application/vnd.jupyter.widget-view+json": {
       "model_id": "0c3d14c171f94e119e8d8da055630f8c",
       "version_major": 2,
       "version_minor": 0
      },
      "text/plain": [
       "HBox(children=(IntProgress(value=0, max=1071), HTML(value='')))"
      ]
     },
     "metadata": {},
     "output_type": "display_data"
    },
    {
     "name": "stderr",
     "output_type": "stream",
     "text": [
      "IOPub message rate exceeded.\n",
      "The notebook server will temporarily stop sending output\n",
      "to the client in order to avoid crashing it.\n",
      "To change this limit, set the config variable\n",
      "`--NotebookApp.iopub_msg_rate_limit`.\n",
      "\n",
      "Current values:\n",
      "NotebookApp.iopub_msg_rate_limit=1000.0 (msgs/sec)\n",
      "NotebookApp.rate_limit_window=3.0 (secs)\n",
      "\n"
     ]
    },
    {
     "name": "stdout",
     "output_type": "stream",
     "text": [
      "--I-- Running Validation\n"
     ]
    },
    {
     "data": {
      "application/vnd.jupyter.widget-view+json": {
       "model_id": "cc3a708325cc4f7583e404a7da2fe6e5",
       "version_major": 2,
       "version_minor": 0
      },
      "text/plain": [
       "HBox(children=(IntProgress(value=0, max=1071), HTML(value='')))"
      ]
     },
     "metadata": {},
     "output_type": "display_data"
    },
    {
     "name": "stdout",
     "output_type": "stream",
     "text": [
      "--I-- Running Validation\n"
     ]
    },
    {
     "data": {
      "application/vnd.jupyter.widget-view+json": {
       "model_id": "bb5e8bf5c58f424da5e4624a45d09181",
       "version_major": 2,
       "version_minor": 0
      },
      "text/plain": [
       "HBox(children=(IntProgress(value=0, max=1071), HTML(value='')))"
      ]
     },
     "metadata": {},
     "output_type": "display_data"
    },
    {
     "name": "stdout",
     "output_type": "stream",
     "text": [
      "--I-- Running Validation\n"
     ]
    },
    {
     "data": {
      "application/vnd.jupyter.widget-view+json": {
       "model_id": "420964adc0924e8fb75326fc4c009572",
       "version_major": 2,
       "version_minor": 0
      },
      "text/plain": [
       "HBox(children=(IntProgress(value=0, max=1071), HTML(value='')))"
      ]
     },
     "metadata": {},
     "output_type": "display_data"
    },
    {
     "name": "stdout",
     "output_type": "stream",
     "text": [
      "--I-- Running Validation\n"
     ]
    },
    {
     "data": {
      "application/vnd.jupyter.widget-view+json": {
       "model_id": "27496a9515ba4125b7a01211944e8477",
       "version_major": 2,
       "version_minor": 0
      },
      "text/plain": [
       "HBox(children=(IntProgress(value=0, max=1071), HTML(value='')))"
      ]
     },
     "metadata": {},
     "output_type": "display_data"
    },
    {
     "name": "stderr",
     "output_type": "stream",
     "text": [
      "IOPub message rate exceeded.\n",
      "The notebook server will temporarily stop sending output\n",
      "to the client in order to avoid crashing it.\n",
      "To change this limit, set the config variable\n",
      "`--NotebookApp.iopub_msg_rate_limit`.\n",
      "\n",
      "Current values:\n",
      "NotebookApp.iopub_msg_rate_limit=1000.0 (msgs/sec)\n",
      "NotebookApp.rate_limit_window=3.0 (secs)\n",
      "\n"
     ]
    },
    {
     "name": "stdout",
     "output_type": "stream",
     "text": [
      "--I-- Running Validation\n"
     ]
    },
    {
     "data": {
      "application/vnd.jupyter.widget-view+json": {
       "model_id": "8dce74107a9d40228b3d3b2ee555ef3f",
       "version_major": 2,
       "version_minor": 0
      },
      "text/plain": [
       "HBox(children=(IntProgress(value=0, max=1071), HTML(value='')))"
      ]
     },
     "metadata": {},
     "output_type": "display_data"
    },
    {
     "name": "stderr",
     "output_type": "stream",
     "text": [
      "IOPub message rate exceeded.\n",
      "The notebook server will temporarily stop sending output\n",
      "to the client in order to avoid crashing it.\n",
      "To change this limit, set the config variable\n",
      "`--NotebookApp.iopub_msg_rate_limit`.\n",
      "\n",
      "Current values:\n",
      "NotebookApp.iopub_msg_rate_limit=1000.0 (msgs/sec)\n",
      "NotebookApp.rate_limit_window=3.0 (secs)\n",
      "\n"
     ]
    },
    {
     "name": "stdout",
     "output_type": "stream",
     "text": [
      "--I-- Running Validation\n"
     ]
    },
    {
     "data": {
      "application/vnd.jupyter.widget-view+json": {
       "model_id": "c70382dbf7a64925a834c2d88f705216",
       "version_major": 2,
       "version_minor": 0
      },
      "text/plain": [
       "HBox(children=(IntProgress(value=0, max=1071), HTML(value='')))"
      ]
     },
     "metadata": {},
     "output_type": "display_data"
    },
    {
     "name": "stdout",
     "output_type": "stream",
     "text": [
      "--I-- Running Validation\n"
     ]
    },
    {
     "data": {
      "application/vnd.jupyter.widget-view+json": {
       "model_id": "4dcf956cfb154323bae4dcfa2de2f1c2",
       "version_major": 2,
       "version_minor": 0
      },
      "text/plain": [
       "HBox(children=(IntProgress(value=0, max=1071), HTML(value='')))"
      ]
     },
     "metadata": {},
     "output_type": "display_data"
    },
    {
     "name": "stderr",
     "output_type": "stream",
     "text": [
      "IOPub message rate exceeded.\n",
      "The notebook server will temporarily stop sending output\n",
      "to the client in order to avoid crashing it.\n",
      "To change this limit, set the config variable\n",
      "`--NotebookApp.iopub_msg_rate_limit`.\n",
      "\n",
      "Current values:\n",
      "NotebookApp.iopub_msg_rate_limit=1000.0 (msgs/sec)\n",
      "NotebookApp.rate_limit_window=3.0 (secs)\n",
      "\n"
     ]
    },
    {
     "name": "stdout",
     "output_type": "stream",
     "text": [
      "--I-- Running Validation\n"
     ]
    },
    {
     "data": {
      "application/vnd.jupyter.widget-view+json": {
       "model_id": "feb6435ada1b41528defe3bfd7a9609e",
       "version_major": 2,
       "version_minor": 0
      },
      "text/plain": [
       "HBox(children=(IntProgress(value=0, max=1071), HTML(value='')))"
      ]
     },
     "metadata": {},
     "output_type": "display_data"
    },
    {
     "name": "stderr",
     "output_type": "stream",
     "text": [
      "IOPub message rate exceeded.\n",
      "The notebook server will temporarily stop sending output\n",
      "to the client in order to avoid crashing it.\n",
      "To change this limit, set the config variable\n",
      "`--NotebookApp.iopub_msg_rate_limit`.\n",
      "\n",
      "Current values:\n",
      "NotebookApp.iopub_msg_rate_limit=1000.0 (msgs/sec)\n",
      "NotebookApp.rate_limit_window=3.0 (secs)\n",
      "\n",
      "IOPub message rate exceeded.\n",
      "The notebook server will temporarily stop sending output\n",
      "to the client in order to avoid crashing it.\n",
      "To change this limit, set the config variable\n",
      "`--NotebookApp.iopub_msg_rate_limit`.\n",
      "\n",
      "Current values:\n",
      "NotebookApp.iopub_msg_rate_limit=1000.0 (msgs/sec)\n",
      "NotebookApp.rate_limit_window=3.0 (secs)\n",
      "\n"
     ]
    },
    {
     "name": "stdout",
     "output_type": "stream",
     "text": [
      "--I-- Running Validation\n"
     ]
    },
    {
     "data": {
      "application/vnd.jupyter.widget-view+json": {
       "model_id": "a77b6fb6461b41ae945b528ec02da69f",
       "version_major": 2,
       "version_minor": 0
      },
      "text/plain": [
       "HBox(children=(IntProgress(value=0, max=1071), HTML(value='')))"
      ]
     },
     "metadata": {},
     "output_type": "display_data"
    },
    {
     "name": "stdout",
     "output_type": "stream",
     "text": [
      "--I-- Running Validation\n"
     ]
    },
    {
     "data": {
      "application/vnd.jupyter.widget-view+json": {
       "model_id": "bb55a3665c7b46a7bbb5740f0c707577",
       "version_major": 2,
       "version_minor": 0
      },
      "text/plain": [
       "HBox(children=(IntProgress(value=0, max=1071), HTML(value='')))"
      ]
     },
     "metadata": {},
     "output_type": "display_data"
    },
    {
     "name": "stderr",
     "output_type": "stream",
     "text": [
      "IOPub message rate exceeded.\n",
      "The notebook server will temporarily stop sending output\n",
      "to the client in order to avoid crashing it.\n",
      "To change this limit, set the config variable\n",
      "`--NotebookApp.iopub_msg_rate_limit`.\n",
      "\n",
      "Current values:\n",
      "NotebookApp.iopub_msg_rate_limit=1000.0 (msgs/sec)\n",
      "NotebookApp.rate_limit_window=3.0 (secs)\n",
      "\n"
     ]
    },
    {
     "name": "stdout",
     "output_type": "stream",
     "text": [
      "--I-- Running Validation\n"
     ]
    },
    {
     "data": {
      "application/vnd.jupyter.widget-view+json": {
       "model_id": "22fcb862dfe343ce9247491ddaafe9c5",
       "version_major": 2,
       "version_minor": 0
      },
      "text/plain": [
       "HBox(children=(IntProgress(value=0, max=1071), HTML(value='')))"
      ]
     },
     "metadata": {},
     "output_type": "display_data"
    },
    {
     "name": "stderr",
     "output_type": "stream",
     "text": [
      "IOPub message rate exceeded.\n",
      "The notebook server will temporarily stop sending output\n",
      "to the client in order to avoid crashing it.\n",
      "To change this limit, set the config variable\n",
      "`--NotebookApp.iopub_msg_rate_limit`.\n",
      "\n",
      "Current values:\n",
      "NotebookApp.iopub_msg_rate_limit=1000.0 (msgs/sec)\n",
      "NotebookApp.rate_limit_window=3.0 (secs)\n",
      "\n"
     ]
    },
    {
     "name": "stdout",
     "output_type": "stream",
     "text": [
      "--I-- Running Validation\n"
     ]
    },
    {
     "data": {
      "application/vnd.jupyter.widget-view+json": {
       "model_id": "46373c28b8094741932da12d01188086",
       "version_major": 2,
       "version_minor": 0
      },
      "text/plain": [
       "HBox(children=(IntProgress(value=0, max=1071), HTML(value='')))"
      ]
     },
     "metadata": {},
     "output_type": "display_data"
    },
    {
     "data": {
      "application/vnd.jupyter.widget-view+json": {
       "model_id": "",
     "name": "stdout",
     "output_type": "stream",
     "text": [
      "--I-- Running Validation\n"
     ]
    },
    {
     "data": {
      "application/vnd.jupyter.widget-view+json": {
       "model_id": "e2bbd0c73cfb4237875ec409c5eaba80",
       "version_major": 2,
       "version_minor": 0
      },
      "text/plain": [
       "HBox(children=(IntProgress(value=0, max=1071), HTML(value='')))"
      ]
     },
     "metadata": {},
     "output_type": "display_data"
    },
    {
     "name": "stderr",
     "output_type": "stream",
     "text": [
      "IOPub message rate exceeded.\n",
      "The notebook server will temporarily stop sending output\n",
      "to the client in order to avoid crashing it.\n",
      "To change this limit, set the config variable\n",
      "`--NotebookApp.iopub_msg_rate_limit`.\n",
      "\n",
      "Current values:\n",
      "NotebookApp.iopub_msg_rate_limit=1000.0 (msgs/sec)\n",
      "NotebookApp.rate_limit_window=3.0 (secs)\n",
      "\n"
     ]
    },
    {
     "name": "stdout",
     "output_type": "stream",
     "text": [
      "--I-- Running Validation\n"
     ]
    },
    {
     "data": {
      "application/vnd.jupyter.widget-view+json": {
       "model_id": "6cf5cc47d7014c2194b12f6419441302",
       "version_major": 2,
       "version_minor": 0
      },
      "text/plain": [
       "HBox(children=(IntProgress(value=0, max=1071), HTML(value='')))"
      ]
     },
     "metadata": {},
     "output_type": "display_data"
    },
    {
     "name": "stdout",
     "output_type": "stream",
     "text": [
      "Epoch Number:3||Train Loss:0.70722||Train Accuracy:0.49735\n",
      "Epoch Number:3||Valid Loss:0.00177||Valid Accuracy:0.00120\n"
     "name": "stderr",
     "output_type": "stream",
     "text": [
      "IOPub message rate exceeded.\n",
      "The notebook server will temporarily stop sending output\n",
      "to the client in order to avoid crashing it.\n",
      "To change this limit, set the config variable\n",
      "`--NotebookApp.iopub_msg_rate_limit`.\n",
      "\n",
      "Current values:\n",
      "NotebookApp.iopub_msg_rate_limit=1000.0 (msgs/sec)\n",
      "NotebookApp.rate_limit_window=3.0 (secs)\n",
      "\n"
     ]
    },
    {
     "name": "stdout",
     "output_type": "stream",
     "text": [
      "--I-- Running Validation\n"
     ]
    },
    {
     "data": {
      "application/vnd.jupyter.widget-view+json": {
       "model_id": "66c415352c634507ad6013f185a01ae4",
       "version_major": 2,
       "version_minor": 0
      },
      "text/plain": [
       "HBox(children=(IntProgress(value=0, max=1071), HTML(value='')))"
      ]
     },
     "metadata": {},
     "output_type": "display_data"
    },
    {
     "data": {
      "application/vnd.jupyter.widget-view+json": {
       "model_id": "32ec8990423f4d73bac3f018f028e7d5",
     "name": "stderr",
     "output_type": "stream",
     "text": [
      "IOPub message rate exceeded.\n",
      "The notebook server will temporarily stop sending output\n",
      "to the client in order to avoid crashing it.\n",
      "To change this limit, set the config variable\n",
      "`--NotebookApp.iopub_msg_rate_limit`.\n",
      "\n",
      "Current values:\n",
      "NotebookApp.iopub_msg_rate_limit=1000.0 (msgs/sec)\n",
      "NotebookApp.rate_limit_window=3.0 (secs)\n",
      "\n"
     ]
    },
    {
     "name": "stdout",
     "output_type": "stream",
     "text": [
      "--I-- Running Validation\n"
     ]
    },
    {
     "data": {
      "application/vnd.jupyter.widget-view+json": {
       "model_id": "84bca5861f49475bba76df22b93c4cdb",
       "version_major": 2,
       "version_minor": 0
      },
      "text/plain": [
       "HBox(children=(IntProgress(value=0, max=1071), HTML(value='')))"
      ]
     },
     "metadata": {},
     "output_type": "display_data"
    },
    {
     "name": "stderr",
     "output_type": "stream",
     "text": [
      "IOPub message rate exceeded.\n",
      "The notebook server will temporarily stop sending output\n",
      "to the client in order to avoid crashing it.\n",
      "To change this limit, set the config variable\n",
      "`--NotebookApp.iopub_msg_rate_limit`.\n",
      "\n",
      "Current values:\n",
      "NotebookApp.iopub_msg_rate_limit=1000.0 (msgs/sec)\n",
      "NotebookApp.rate_limit_window=3.0 (secs)\n",
      "\n"
     ]
    },
    {
     "name": "stdout",
     "output_type": "stream",
     "text": [
      "--I-- Running Validation\n"
     ]
    },
    {
     "data": {
      "application/vnd.jupyter.widget-view+json": {
       "model_id": "f63fa8bd644b4f319e319131669506c7",
       "version_major": 2,
       "version_minor": 0
      },
      "text/plain": [
       "HBox(children=(IntProgress(value=0, max=1071), HTML(value='')))"
      ]
     },
     "metadata": {},
     "output_type": "display_data"
    },
    {
     "name": "stdout",
     "output_type": "stream",
     "text": [
      "Epoch Number:4||Train Loss:0.70682||Train Accuracy:0.49737\n",
      "Epoch Number:4||Valid Loss:0.00177||Valid Accuracy:0.00120\n"
      "--I-- Running Validation\n"
     ]
    },
    {
     "data": {
      "application/vnd.jupyter.widget-view+json": {
       "model_id": "ac847c72731e491092004de5f25a3bd4",
       "version_major": 2,
       "version_minor": 0
      },
      "text/plain": [
       "HBox(children=(IntProgress(value=0, max=1071), HTML(value='')))"
      ]
     },
     "metadata": {},
     "output_type": "display_data"
    },
    {
     "data": {
      "application/vnd.jupyter.widget-view+json": {
       "model_id": "6d0e4205a66040fc9710410d13cfeeb7",
     "name": "stderr",
     "output_type": "stream",
     "text": [
      "IOPub message rate exceeded.\n",
      "The notebook server will temporarily stop sending output\n",
      "to the client in order to avoid crashing it.\n",
      "To change this limit, set the config variable\n",
      "`--NotebookApp.iopub_msg_rate_limit`.\n",
      "\n",
      "Current values:\n",
      "NotebookApp.iopub_msg_rate_limit=1000.0 (msgs/sec)\n",
      "NotebookApp.rate_limit_window=3.0 (secs)\n",
      "\n"
     ]
    },
    {
     "name": "stdout",
     "output_type": "stream",
     "text": [
      "--I-- Running Validation\n"
     ]
    },
    {
     "data": {
      "application/vnd.jupyter.widget-view+json": {
       "model_id": "9d152cfde515489b914f3c1e0c81256a",
       "version_major": 2,
       "version_minor": 0
      },
      "text/plain": [
       "HBox(children=(IntProgress(value=0, max=1071), HTML(value='')))"
      ]
     },
     "metadata": {},
     "output_type": "display_data"
    },
    {
     "data": {
      "application/vnd.jupyter.widget-view+json": {
       "model_id": "",
     "name": "stderr",
     "output_type": "stream",
     "text": [
      "IOPub message rate exceeded.\n",
      "The notebook server will temporarily stop sending output\n",
      "to the client in order to avoid crashing it.\n",
      "To change this limit, set the config variable\n",
      "`--NotebookApp.iopub_msg_rate_limit`.\n",
      "\n",
      "Current values:\n",
      "NotebookApp.iopub_msg_rate_limit=1000.0 (msgs/sec)\n",
      "NotebookApp.rate_limit_window=3.0 (secs)\n",
      "\n"
     ]
    },
    {
     "name": "stdout",
     "output_type": "stream",
     "text": [
      "--I-- Running Validation\n"
     ]
    },
    {
     "data": {
      "application/vnd.jupyter.widget-view+json": {
       "model_id": "ac75463e2eef45fc84bb1b0a66685cb1",
       "version_major": 2,
       "version_minor": 0
      },
      "text/plain": [
       "HBox(children=(IntProgress(value=0, max=1071), HTML(value='')))"
      ]
     },
     "metadata": {},
     "output_type": "display_data"
    },
    {
     "name": "stdout",
     "output_type": "stream",
     "text": [
      "Epoch Number:5||Train Loss:0.70676||Train Accuracy:0.49736\n",
      "Epoch Number:5||Valid Loss:0.00176||Valid Accuracy:0.00120\n"
      "--I-- Running Validation\n"
     ]
    },
    {
     "data": {
      "application/vnd.jupyter.widget-view+json": {
       "model_id": "8bf12a65a0df459094d395d65e10caaa",
       "version_major": 2,
       "version_minor": 0
      },
      "text/plain": [
       "HBox(children=(IntProgress(value=0, max=1071), HTML(value='')))"
      ]
     },
     "metadata": {},
     "output_type": "display_data"
    },
    {
     "name": "stderr",
     "output_type": "stream",
     "text": [
      "IOPub message rate exceeded.\n",
      "The notebook server will temporarily stop sending output\n",
      "to the client in order to avoid crashing it.\n",
      "To change this limit, set the config variable\n",
      "`--NotebookApp.iopub_msg_rate_limit`.\n",
      "\n",
      "Current values:\n",
      "NotebookApp.iopub_msg_rate_limit=1000.0 (msgs/sec)\n",
      "NotebookApp.rate_limit_window=3.0 (secs)\n",
      "\n"
     ]
    }
   ],
   "source": [
    "# Train \n",
    "trained_model=bert_model1.run_training(model,train_dataLoader,valid_dataLoader,\n",
    "                         optimizer=optimizer,scheduler=scheduler,EPOCHS=EPOCHS)"
    "\n",
    "start = time.time()\n",
    "trained_model,training_stats,validation_stats=\\\n",
    "        bert_model1.run_training(model,train_dataLoader,valid_dataLoader,\n",
    "                         optimizer=optimizer,scheduler=scheduler,EPOCHS=EPOCHS,accumulation_steps=accumulation_steps)\n",
    "\n",
    "print(\"Training Time:%0.5f seconds\" %(time.time()-start))"
   ]
  },
  {
   "cell_type": "code",
   "execution_count": 20,
   "metadata": {},
   "outputs": [],
   "source": [
    "MODEL_PATH = \"/root/data/BERT/uncased_L-12_H-768_A-12-pytorch/pytorch-checkpoint.pt\"\n",
    "#  'optimizer_state_dict': optimizer.state_dict(),\n",
    "# 'scheduler_state_dict': scheduler.state_dict(),\n",
    "\n",
    "torch.save(trained_model,MODEL_PATH)\n"
   "execution_count": 14,
   "metadata": {},
   "outputs": [],
   "source": [
    "training_losses = [x['train_loss'] for x in training_stats]\n",
    "training_acc = [x['train_acc'] for x in training_stats]"
   ]
  },
  {
   "cell_type": "code",
   "execution_count": 15,
   "metadata": {},
   "outputs": [],
   "source": [
    "# bert_model_from_checkpoint=Bert_Model(train_df=train_df,\n",
    "#                       test_df=test_df,\n",
    "#                       bert_model_name=bert_model_name,\n",
    "#                       bert_model_path=bert_model_path,\n",
    "#                       tokenizer=tokenizer,\n",
    "#                       max_seq_length=max_seq_len)\n",
    "\n",
    "# model.load_state_dict(torch.load(PATH))\n",
    "\n",
    "# # # optimizer = TheOptimizerClass(*args, **kwargs)\n",
    "# # checkpoint = torch.load(MODEL_PATH)\n",
    "# # bert_model_from_checkpoint.load_state_dict(checkpoint['model_state_dict'])\n",
    "# # # optimizer.load_state_dict(checkpoint['optimizer_state_dict'])\n",
    "# # # epoch = checkpoint['epoch']\n",
    "# # # loss = checkpoint['loss']\n",
    "\n",
    "# # bert_model_from_checkpoint.eval()\n",
    "# # # # - or -\n",
    "# # # model.train()"
   "outputs": [
    {
     "data": {
      "text/plain": [
       "[<matplotlib.lines.Line2D at 0x7fd0459e2198>]"
      ]
     },
     "execution_count": 15,
     "metadata": {},
     "output_type": "execute_result"
    },
    {
     "data": {
      "image/png": "iVBORw0KGgoAAAANSUhEUgAAAXoAAAD4CAYAAADiry33AAAABHNCSVQICAgIfAhkiAAAAAlwSFlzAAALEgAACxIB0t1+/AAAADh0RVh0U29mdHdhcmUAbWF0cGxvdGxpYiB2ZXJzaW9uMy4yLjEsIGh0dHA6Ly9tYXRwbG90bGliLm9yZy+j8jraAAAZMElEQVR4nO3dbZBc1Z3f8e+vu+dBjyChEQhJIBHEeo0hPEwwDrspdmsB7TqBxDgbbG8FV+ylUmVq7axrU6iSwg6urbXf+GGrlKwJUa1f2IuTJXHGXiUU+CGbbALWYDBYYgVCNmhkI42lkYSkeeq+/7zoO6M73TOaljSjls78PlVd0/fcc3vOPQO/e3Tu6W5FBGZmlq5SuxtgZmbzy0FvZpY4B72ZWeIc9GZmiXPQm5klrtLuBjRatWpVbNiwod3NMDO7qLzwwgu/jIie6fZdcEG/YcMG+vv7290MM7OLiqQ3Z9rnqRszs8Q56M3MEuegNzNLnIPezCxxDnozs8Q56M3MEuegNzNL3AW3jn4hiwgioFTSlPLxWsbxkSrHR6v8/MgwY7WMssRoLWN4rMbJsRrDY1WGx2ss6ihz6eJOlnVXOHxijM5KiUUdZSrlEmPVjJJg5ZJOFnWWKUn5g8nnUv33lwQi/9lYp8TkcUIEQTVr/rjryU/AjokfQRZQzTJqWVCtBeO1/HkW1PLXKJdEpSQq5VL+U1RKp553lEuTdSQ1/d75MlbNePPQCUol0VEq1dtVFqLehommiHqfibyfSvVzKulU283OJwf9eRIRHBupcvDYCAeOjXLg2AgH3hnh4LFRXh44wusHjnNirEoWsKSzzMqlnQyP1XhnpMpoNWt38y9Y5ZIoq36xkerPy/mFaiJcS4U647VgrJoxVssQUCnV63eUS3R3lOmq1IO4+Cjlr/mLI8P8/OjIObd5om0R9WvgxHdCTPfNENN9XURJUCnlF7uy8nMoUc4vwBMXmlKpcHGmfiEqXtCnXMBLopy3a+KclV/Ip7uWFi+wmlLODOWz1y/uKV40p3/t5rqnqzPD02nbdabnQCvtmvI6M9ddv3Ixn/iNa5lrDvo5UsuCQydGee3t4zy39xA/O3SCNw+dZN/QSborZY4MjzEy3hzYy7orbLhsCfffuo5l3RVKEkeHxxk6OcaSrgrLuios7aqwtLv+c/XybpZ0lqllQUelxOLOMos7KnR31kfuI+MZQyfHODo8zmVLOqllwfB4jfFaRme5TC2CQ8dHGa1mZHFqFJ1FkGX1nxH5dpwahUcEWVZ/3lhHqgfmdCb+55jYWy6dCt6OfHReKZ8K6Im2jNeCapZRrdVH+9UsqNYK27UsL8+oZfU2ZHkba9lE2+rnN/FTiM5KiY5yiY6KIJj818R4LWO0Wn/U8t9by4Jafo5ZFrxrzXI+9VvX0dVRqrevljE+8S+ZQlhH3l8Bk8fW8jbU8t9VzWIyfIthOm0vNiRtxNQ+qL9m1P9GE3+3ib9ZFP5mTPwdC3/fiX6aaGf+qEY240WoePEJpt8xc/2Yvnya15zpS5Faer0p9advF7P8znM5h6ntbX7NmV7v+isvmf5FzpGD/gyNjNf40VtD/PSXJ/j+3w7y9rFhDh4b5dCJsSlTD+tWLOLqy5Zww7pLGB3PWLmkg8uXd7N6eTeXL+vKn3exuHNu/wTLuqFnWdecvqaZXdxaShlJm4GvAGXgiYj4/DR1fhf4LPWL1o8j4sN5eQ14Ja/2VkTcOwftPu/2HHyHbzy/j6d+NMDR4XEA1q1YxKbVS7l+zSX0LOti9fIurrxkEb+2aRXdHeU2t9jMrG7WoJdUBrYCdwEDwA5JfRGxq1BnE7AFuCMihiStLrzEcETcNMftnne1LHh+7yG+/vxbvH7wHV47cJyOsrjn+iv4wC1ruWbVUq5aubjpxqmZ2YWmlRH9bcCeiNgLIOlJ4D5gV6HO7wNbI2IIICIOznVDz5cTo1W+8fxbPPF/9nLg2CirlnZyw9pL+MAt6/jgretYtdTTImZ2cWkl6NcC+wrbA8B7G+pcByDpb6hP73w2Iv5nvq9bUj9QBT4fEd9q/AWSHgIeArjqqqvO6ATmylg145ldB/jst3cy+M4o77vmMh757Xdxz/VXzPk8upnZ+TRXCVYBNgF3AuuAv5Z0Q0QcAa6OiP2SrgG+J+mViHijeHBEPA48DtDb2zvDvev5cfjEGP/++3t46kcDDJ0c59rVS/mz37uFW69eeT6bYWY2b1oJ+v3A+sL2urysaAB4PiLGgZ9Keo168O+IiP0AEbFX0g+Am4E3uACMVTP+xZ/v4JX9R9n8niv44K3r+PVrV1Ep+w3DZpaOVhJtB7BJ0kZJncADQF9DnW9RH80jaRX1qZy9klZI6iqU38HUuf22qdYyPvXNF3lp3xH+9IGb2frhW/iNX1ntkDez5Mw6oo+IqqSHgaepz79vi4idkh4D+iOiL993t6RdQA34o4g4JOnvA1+VlFG/qHy+uFqnnT7/P/6W7a+8zb99/6/y/hvXtLs5ZmbzRjO9+6xdent7Y76/M3bPweNs/vJf80971/EnH7hxXn+Xmdn5IOmFiOidbt+Cm6cYOjHGR554jiVdFf7Vb13X7uaYmc27BRf0X372NQbfGeXrH38vq5d3t7s5ZmbzbsEEfUTwlWdf52v/701+7/arec/a+fnwIDOzC82CCfr//fov+dKzr3H/Lev4zD+6vt3NMTM7bxZM0P/FD99i5ZJO/uQDN/iLH8xsQVkQQX/o+CjPvnqAf3LzWjorC+KUzcwmLYjU+28v7me8Fvyzv7d+9spmZolZEEH/9M63uf7K5Vx3+bJ2N8XM7LxLPuhHxmv8eN9R7rh2VbubYmbWFskH/YtvHWGslvHejf40SjNbmJIP+pcHjgBwy1Ur2twSM7P2SD7odx94h8uXd7FiSWe7m2Jm1hbJB/1rB97xTVgzW9CSDvpaFrx+4Di/4qA3swUs6aD/+ZFhRqsZ165e2u6mmJm1TdJBv+/wSQCuWrm4zS0xM2uftIN+qB706x30ZraApR30h4cpl8SaS/y582a2cKUd9EMnuWJ5t7/w28wWtKQTcGBomPUrF7W7GWZmbZV00L99dIQrL3HQm9nClmzQZ1lw4NgIl3t+3swWuGSD/tCJMapZcPmyrnY3xcysrZIN+gPHRgC4wiN6M1vgkg/6y5c76M1sYUs26N920JuZAS0GvaTNknZL2iPpkRnq/K6kXZJ2SvpGofxBSa/njwfnquGzOXBsFAl6PEdvZgtcZbYKksrAVuAuYADYIakvInYV6mwCtgB3RMSQpNV5+UrgM0AvEMAL+bFDc38qUx0+Mcolizro8JulzGyBayUFbwP2RMTeiBgDngTua6jz+8DWiQCPiIN5+T3AMxFxON/3DLB5bpp+ekMnx1mx2F82YmbWStCvBfYVtgfysqLrgOsk/Y2k5yRtPoNjkfSQpH5J/YODg623/jSOnBxjxeKOOXktM7OL2VzNa1SATcCdwIeA/yjp0lYPjojHI6I3Inp7enrmpEFDJzyiNzOD1oJ+P7C+sL0uLysaAPoiYjwifgq8Rj34Wzl2XgydHONSB72ZWUtBvwPYJGmjpE7gAaCvoc63qI/mkbSK+lTOXuBp4G5JKyStAO7Oy+bd0MkxVi7x1I2Z2ayrbiKiKulh6gFdBrZFxE5JjwH9EdHHqUDfBdSAP4qIQwCSPkf9YgHwWEQcno8TKRoeqzEynnlEb2ZGC0EPEBHbge0NZY8Wngfwh/mj8dhtwLZza+aZGTo5BuA5ejMzEn1n7ETQe+rGzCzRoD86PA7A8kUOejOzJIP+5GgNgKVdLc1MmZklLcmgPzFWBWBxp4PezCzJoD8+Wg96j+jNzBIN+hN50C/pKre5JWZm7Zdo0Nfn6Jd46sbMLNWgr7K4s0yppHY3xcys7dIM+rGqb8SameXSDPrRGks9P29mBiQb9FWWeMWNmRmQaNAfd9CbmU1KMuhPjtVY0umpGzMzSDToPXVjZnZKkkF/fLTqd8WameWSDPqTYzUvrzQzyyUZ9KPVGt0dSZ6amdkZSy4Na1kwXgu6O3wz1swMEgz60Wr9c266KsmdmpnZWUkuDUfHM8BBb2Y2Ibk0HK3mQe+pGzMzIMmg99SNmVlRcmk4kk/d+GasmVldckHvEb2Z2VTJpeHkHH3FI3ozM2gx6CVtlrRb0h5Jj0yz/6OSBiW9lD8+XthXK5T3zWXjpzO56sZvmDIzA2DWzwmQVAa2AncBA8AOSX0Rsauh6jcj4uFpXmI4Im4696a2ZmTcUzdmZkWtpOFtwJ6I2BsRY8CTwH3z26yzNzF145uxZmZ1rQT9WmBfYXsgL2t0v6SXJf2lpPWF8m5J/ZKek/SPp/sFkh7K6/QPDg623vpp+GasmdlUc5WG3wY2RMSNwDPA1wr7ro6IXuDDwJcl/Z3GgyPi8YjojYjenp6ec2qIb8aamU3VStDvB4oj9HV52aSIOBQRo/nmE8CthX378597gR8AN59De2c16jl6M7MpWknDHcAmSRsldQIPAFNWz0haU9i8F3g1L18hqSt/vgq4A2i8iTunRqpedWNmVjTrqpuIqEp6GHgaKAPbImKnpMeA/ojoA/5A0r1AFTgMfDQ//FeBr0rKqF9UPj/Nap05depDzTx1Y2YGLQQ9QERsB7Y3lD1aeL4F2DLNcf8XuOEc23hGRqs1OsqiXNL5/LVmZhes5OY3RquZR/NmZgXJBf3IeM03Ys3MCpJLxPqIPrnTMjM7a8kl4mg185eOmJkVJBf049WMjrJvxJqZTUgu6KtZRqWU3GmZmZ215BJxvBYe0ZuZFSQX9LUsvIbezKwguaAfr2VUysmdlpnZWUsuEauZp27MzIrSC/qab8aamRUll4i+GWtmNlVyQe+bsWZmUyUX9OOZb8aamRUll4jVWtDhEb2Z2aQEg94jejOzouQScdzLK83Mpkgu6GtZeHmlmVlBcok4Xsu86sbMrCC5oK96Hb2Z2RTpBb2XV5qZTZFUIkZE/Z2xnroxM5uUVNDXsgDwiN7MrCCpRKzmQe+bsWZmpyQZ9L4Za2Z2SktBL2mzpN2S9kh6ZJr9H5U0KOml/PHxwr4HJb2ePx6cy8Y3qtYyAK+jNzMrqMxWQVIZ2ArcBQwAOyT1RcSuhqrfjIiHG45dCXwG6AUCeCE/dmhOWt9gvOYRvZlZo1aGvrcBeyJib0SMAU8C97X4+vcAz0TE4TzcnwE2n11TZ1fN8hG9b8aamU1qJRHXAvsK2wN5WaP7Jb0s6S8lrT/DY+dEteabsWZmjeZq6PttYENE3Eh91P61MzlY0kOS+iX1Dw4OnnUjfDPWzKxZK0G/H1hf2F6Xl02KiEMRMZpvPgHc2uqx+fGPR0RvRPT29PS02vYmvhlrZtaslUTcAWyStFFSJ/AA0FesIGlNYfNe4NX8+dPA3ZJWSFoB3J2XzQvfjDUzazbrqpuIqEp6mHpAl4FtEbFT0mNAf0T0AX8g6V6gChwGPpofe1jS56hfLAAei4jD83AeQOFmrEf0ZmaTZg16gIjYDmxvKHu08HwLsGWGY7cB286hjS2bGNFXPKI3M5uU1NB38rNuPKI3M5uUVCJO3oz1iN7MbFJSQT/u5ZVmZk2SCnovrzQza5ZUIvpmrJlZs6SC3jdjzcyaJZWIpz7UzCN6M7MJSQX95DtjPaI3M5uUVCJmUQ9657yZ2SlJRWKWz9GX5KkbM7MJaQV9Pef9efRmZgWJBX096T2gNzM7Jcmg99SNmdkpaQV9PndTdtCbmU1KKujz1ZUe0ZuZFSQV9OHllWZmTZKKxJqXV5qZNUkq6L280sysWWJB7+WVZmaN0gp6T92YmTVJK+gnpm4c9GZmk5IK+pqnbszMmiQV9BFBSSAnvZnZpKSCvpaF5+fNzBokFfRZQMlLK83Mpkgq6CembszM7JSWgl7SZkm7Je2R9Mhp6t0vKST15tsbJA1Leil//NlcNXw6nroxM2tWma2CpDKwFbgLGAB2SOqLiF0N9ZYBnwSeb3iJNyLipjlq72ll4aWVZmaNWhnR3wbsiYi9ETEGPAncN029zwFfAEbmsH1nJIvw0kozswatBP1aYF9heyAvmyTpFmB9RPzVNMdvlPSipP8l6den+wWSHpLUL6l/cHCw1bY3ySL8OTdmZg3O+WaspBLwReDT0+z+BXBVRNwM/CHwDUnLGytFxOMR0RsRvT09PWfdFs/Rm5k1ayXo9wPrC9vr8rIJy4D3AD+Q9DPgdqBPUm9EjEbEIYCIeAF4A7huLho+HS+vNDNr1krQ7wA2SdooqRN4AOib2BkRRyNiVURsiIgNwHPAvRHRL6knv5mLpGuATcDeOT+LU23x8kozswazrrqJiKqkh4GngTKwLSJ2SnoM6I+IvtMc/g+AxySNAxnwLyPi8Fw0fDqeujEzazZr0ANExHZge0PZozPUvbPw/CngqXNo3xnJwh9RbGbWKKl3xmYR/r5YM7MGScViFuE3TJmZNUgq6D1Hb2bWLKmgDy+vNDNrklTQZ15eaWbWJKmg99SNmVmzpILeyyvNzJolFvReXmlm1iipWPTySjOzZkkFfS0L5KA3M5siqaCPwJ9Hb2bWIKmg9/JKM7NmSQW9p27MzJolFfThLwc3M2uSVNDXvLzSzKxJUrFYn6P3iN7MrCitoPdHIJiZNUkr6L280sysSWJB7+WVZmaNkgp6L680M2uWVNB7eaWZWbOkgt7LK83MmiUVi15eaWbWLK2g9/JKM7MmaQW9l1eamTVpKeglbZa0W9IeSY+cpt79kkJSb6FsS37cbkn3zEWjZ5JF4AG9mdlUldkqSCoDW4G7gAFgh6S+iNjVUG8Z8Eng+ULZu4EHgOuBK4FnJV0XEbW5O4VTPHVjZtaslRH9bcCeiNgbEWPAk8B909T7HPAFYKRQdh/wZESMRsRPgT35682LzMsrzcyatBL0a4F9he2BvGySpFuA9RHxV2d67Fzy8kozs2bnHIuSSsAXgU+fw2s8JKlfUv/g4OBZtyW8vNLMrEkrQb8fWF/YXpeXTVgGvAf4gaSfAbcDffkN2dmOBSAiHo+I3ojo7enpObMzKKh5jt7MrEkrQb8D2CRpo6RO6jdX+yZ2RsTRiFgVERsiYgPwHHBvRPTn9R6Q1CVpI7AJ+OGcn0XOyyvNzJrNuuomIqqSHgaeBsrAtojYKekxoD8i+k5z7E5J/xnYBVSBT8zXihvw8kozs+nMGvQAEbEd2N5Q9ugMde9s2P5j4I/Psn1nxMsrzcyaJbVGxVM3ZmbNkgr6mqduzMyaJBX0EeE3TJmZNUgq6L280sysWVJBnwWUPEdvZjZFMkEfEQD+cnAzswbJBH0tmwh6J72ZWVEyQZ/nvJdXmpk1SCjo60nvAb2Z2VTJBb2XV5qZTZVM0HuO3sxseskE/cQcvZdXmplNlUzQe3mlmdn0kgl6T92YmU0vmaDvqJR4/w1r2LBqSbubYmZ2QWnp8+gvBsu7O9j6kVva3QwzswtOMiN6MzObnoPezCxxDnozs8Q56M3MEuegNzNLnIPezCxxDnozs8Q56M3MEqeJz4i5UEgaBN48h5dYBfxyjpqTGvfNzNw3p+f+mdmF0jdXR0TPdDsuuKA/V5L6I6K33e24ELlvZua+OT33z8wuhr7x1I2ZWeIc9GZmiUsx6B9vdwMuYO6bmblvTs/9M7MLvm+Sm6M3M7OpUhzRm5lZgYPezCxxyQS9pM2SdkvaI+mRdrenHSRtk3RQ0k8KZSslPSPp9fznirxckv4076+XJSX9rS2S1kv6vqRdknZK+mRevuD7R1K3pB9K+nHeN/8uL98o6fm8D74pqTMv78q39+T7N7Sz/eeDpLKkFyV9J9++qPomiaCXVAa2Ar8NvBv4kKR3t7dVbfHnwOaGskeA70bEJuC7+TbU+2pT/ngI+A/nqY3tUgU+HRHvBm4HPpH/N+L+gVHgNyPi7wI3AZsl3Q58AfhSRFwLDAEfy+t/DBjKy7+U10vdJ4FXC9sXV99ExEX/AN4HPF3Y3gJsaXe72tQXG4CfFLZ3A2vy52uA3fnzrwIfmq7eQngA/x24y/3T1C+LgR8B76X+bs9KXj75/xjwNPC+/Hklr6d2t30e+2Qd9UHAbwLfAXSx9U0SI3pgLbCvsD2QlxlcHhG/yJ+/DVyeP1+wfZb/c/pm4HncP8Dk1MRLwEHgGeAN4EhEVPMqxfOf7Jt8/1HgsvPb4vPqy8C/BrJ8+zIusr5JJeitBVEfZizo9bSSlgJPAZ+KiGPFfQu5fyKiFhE3UR+93ga8q81NuiBI+ofAwYh4od1tORepBP1+YH1he11eZnBA0hqA/OfBvHzB9ZmkDuoh//WI+K95sfunICKOAN+nPh1xqaRKvqt4/pN9k++/BDh0npt6vtwB3CvpZ8CT1KdvvsJF1jepBP0OYFN+J7wTeADoa3ObLhR9wIP58wepz01PlP/zfHXJ7cDRwhRGciQJ+E/AqxHxxcKuBd8/knokXZo/X0T93sWr1AP/g3m1xr6Z6LMPAt/L/zWUnIjYEhHrImID9Vz5XkR8hIutb9p9k2AOb5j8DvAa9bnFf9Pu9rSpD/4C+AUwTn3e8GPU5we/C7wOPAuszOuK+kqlN4BXgN52t3+e++bXqE/LvAy8lD9+x/0TADcCL+Z98xPg0bz8GuCHwB7gvwBdeXl3vr0n339Nu8/hPPXTncB3Lsa+8UcgmJklLpWpGzMzm4GD3swscQ56M7PEOejNzBLnoDczS5yD3swscQ56M7PE/X+Y8u+WPxW60gAAAABJRU5ErkJggg==\n",
      "text/plain": [
       "<Figure size 432x288 with 1 Axes>"
      ]
     },
     "metadata": {
      "needs_background": "light"
     },
     "output_type": "display_data"
    }
   ],
   "source": [
    "plt.plot(training_losses)"
   ]
  },
  {
   "cell_type": "code",
   "execution_count": 16,
   "metadata": {},
   "outputs": [
    {
     "data": {
      "text/plain": [
       "[<matplotlib.lines.Line2D at 0x7fd0446eca90>]"
      ]
     },
     "execution_count": 16,
     "metadata": {},
     "output_type": "execute_result"
    },
    {
     "data": {
      "image/png": "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\n",
      "text/plain": [
       "<Figure size 432x288 with 1 Axes>"
      ]
     },
     "metadata": {
      "needs_background": "light"
     },
     "output_type": "display_data"
    }
   ],
   "source": [
    "plt.plot(training_acc)"
   ]
  },
  {
   "cell_type": "code",
   "execution_count": 20,
   "metadata": {},
   "outputs": [
    {
     "name": "stdout",
     "output_type": "stream",
     "text": [
      "/root/models/Tranformer_based\r\n"
     ]
    }
   ],
   "source": [
    "!pwd"
   ]
  },
  {
   "cell_type": "code",
   "execution_count": 21,
   "metadata": {},
   "outputs": [],
   "source": [
    "MODEL_PATH = \"/root/data/BERT/uncased_L-12_H-768_A-12-pytorch/pytorch-model-checkpoint-2epoch-suhas.bin\"\n",
    "torch.save(trained_model,MODEL_PATH)"
   ]
  },
  {
   "cell_type": "code",
   "execution_count": null,
   "metadata": {},
   "outputs": [],
   "source": []
  }
 ],
 "metadata": {
  "kernelspec": {
   "display_name": "Python 3",
   "language": "python",
   "name": "python3"
  },
  "language_info": {
   "codemirror_mode": {
    "name": "ipython",
    "version": 3
   },
   "file_extension": ".py",
   "mimetype": "text/x-python",
   "name": "python",
   "nbconvert_exporter": "python",
   "pygments_lexer": "ipython3",
   "version": "3.6.8"
  }
 },
 "nbformat": 4,
 "nbformat_minor": 2
}
